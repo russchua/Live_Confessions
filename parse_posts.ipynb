{
 "cells": [
  {
   "cell_type": "code",
   "execution_count": 33,
   "metadata": {},
   "outputs": [],
   "source": [
    "import openai\n",
    "import json\n",
    "from pathlib import Path"
   ]
  },
  {
   "cell_type": "code",
   "execution_count": 34,
   "metadata": {},
   "outputs": [
    {
     "name": "stdout",
     "output_type": "stream",
     "text": [
      "C:\\Users\\russc\\OneDrive - Massachusetts Institute of Technology\\Documents\\Side Projects\\Live_Confessions\n"
     ]
    }
   ],
   "source": [
    "my_cwd = Path().resolve()\n",
    "print(my_cwd)"
   ]
  },
  {
   "cell_type": "code",
   "execution_count": 35,
   "metadata": {},
   "outputs": [
    {
     "data": {
      "text/plain": [
       "True"
      ]
     },
     "execution_count": 35,
     "metadata": {},
     "output_type": "execute_result"
    }
   ],
   "source": [
    "posts_json = my_cwd / 'saved_posts' / 'dataset_985posts_2023-05-09_05-08-51-686.json'\n",
    "posts_json.exists()"
   ]
  },
  {
   "cell_type": "code",
   "execution_count": 36,
   "metadata": {},
   "outputs": [
    {
     "data": {
      "text/plain": [
       "True"
      ]
     },
     "execution_count": 36,
     "metadata": {},
     "output_type": "execute_result"
    }
   ],
   "source": [
    "comment_json = my_cwd / 'saved_posts' / 'dataset_facebook-comments-scraper_2023-05-09_06-26-11-619.json'\n",
    "comment_json.exists()"
   ]
  },
  {
   "cell_type": "code",
   "execution_count": 37,
   "metadata": {},
   "outputs": [
    {
     "name": "stdout",
     "output_type": "stream",
     "text": [
      "{'facebookUrl': 'https://www.facebook.com/beaverconfessions/', 'pageId': '100064422082976', 'postId': '612851154205615', 'pageName': 'MIT Confessions', 'url': 'https://www.facebook.com/beaverconfessions/posts/pfbid02eMYiTWhFf8Ab5bo2XnVE4xXWTjP2bzfjjJPmYoPWKUrVhUjKjYvy3EBBHcNNsmahl', 'time': 'Saturday, May 6, 2023 at 2:41 PM', 'timestamp': 1683409275000, 'likes': 4, 'comments': None, 'shares': None, 'text': '#68148 that springfest carnival was such a disappointment. how does boba run out at 545 and fried dough runs out at 615 when the event runs until 8? and no other food? long ass lines for mid booths? do better', 'topLevelUrl': 'https://www.facebook.com/100064422082976/posts/612851154205615', 'facebookId': '100064422082976'}\n",
      "985\n"
     ]
    }
   ],
   "source": [
    "with open(posts_json) as json_file:\n",
    "    fresh_posts_data = json.load(json_file)\n",
    "\n",
    "with open(comment_json) as json_file:\n",
    "    fresh_comment_data = json.load(json_file)\n",
    "\n",
    "print(fresh_posts_data[0])\n",
    "print(len(fresh_posts_data))"
   ]
  },
  {
   "attachments": {},
   "cell_type": "markdown",
   "metadata": {},
   "source": [
    "# Classifying interesting posts"
   ]
  },
  {
   "cell_type": "code",
   "execution_count": 38,
   "metadata": {},
   "outputs": [],
   "source": [
    "# Instantiate the ask_GPT function\n",
    "# Loading the openai api key\n",
    "openai.api_key_path = '.\\openai_key'\n",
    "def ask_GPT(post_text, prompt='Tell me, is the following post interesting, Yes/No: '):\n",
    "    OpenAI_prompt = prompt + post_text\n",
    "    openai_output = openai.Completion.create(\n",
    "        model=\"text-davinci-003\",\n",
    "        prompt=OpenAI_prompt,\n",
    "        temperature=0.6,\n",
    "        max_tokens=500,\n",
    "    )\n",
    "    return openai_output\n",
    "\n",
    "def append_json_dict(posts_data):\n",
    "    for i in range(len(posts_data)):\n",
    "        posts_data[i]['GPT_response'] = ask_GPT(posts_data[i]['text'])\n",
    "    return posts_data\n"
   ]
  },
  {
   "cell_type": "code",
   "execution_count": 39,
   "metadata": {},
   "outputs": [],
   "source": [
    "new_fresh_posts_data = append_json_dict(fresh_posts_data)"
   ]
  },
  {
   "cell_type": "code",
   "execution_count": 40,
   "metadata": {},
   "outputs": [],
   "source": [
    "# Serializing json\n",
    "json_object = json.dumps(new_fresh_posts_data, indent=4)\n",
    "\n",
    "gpt_json = my_cwd / 'saved_posts' / 'fresh_GPT_post_interesting.json'\n",
    "\n",
    "# Writing to sample.json\n",
    "with open(gpt_json, \"w\") as outfile:\n",
    "    outfile.write(json_object)"
   ]
  },
  {
   "cell_type": "code",
   "execution_count": 24,
   "metadata": {},
   "outputs": [],
   "source": [
    "# Serializing json\n",
    "json_object = json.dumps(posts_data, indent=4)\n",
    " \n",
    "gpt_json = my_cwd / 'saved_posts' / 'fresh_GPT_post_interesting.json'\n",
    "\n",
    "# Writing to sample.json\n",
    "with open(gpt_json, \"w\") as outfile:\n",
    "    outfile.write(json_object)"
   ]
  }
 ],
 "metadata": {
  "kernelspec": {
   "display_name": "Python 3",
   "language": "python",
   "name": "python3"
  },
  "language_info": {
   "codemirror_mode": {
    "name": "ipython",
    "version": 3
   },
   "file_extension": ".py",
   "mimetype": "text/x-python",
   "name": "python",
   "nbconvert_exporter": "python",
   "pygments_lexer": "ipython3",
   "version": "3.10.10"
  },
  "orig_nbformat": 4
 },
 "nbformat": 4,
 "nbformat_minor": 2
}
