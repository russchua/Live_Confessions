{
 "cells": [
  {
   "cell_type": "code",
   "execution_count": 1,
   "metadata": {},
   "outputs": [
    {
     "name": "stderr",
     "output_type": "stream",
     "text": [
      "c:\\Users\\russc\\OneDrive - Massachusetts Institute of Technology\\Documents\\Side Projects\\Live_Confessions\\.conda\\lib\\site-packages\\tqdm\\auto.py:21: TqdmWarning: IProgress not found. Please update jupyter and ipywidgets. See https://ipywidgets.readthedocs.io/en/stable/user_install.html\n",
      "  from .autonotebook import tqdm as notebook_tqdm\n"
     ]
    }
   ],
   "source": [
    "import openai\n",
    "from facebook_scraper import get_posts"
   ]
  },
  {
   "cell_type": "code",
   "execution_count": 2,
   "metadata": {},
   "outputs": [],
   "source": [
    "# Loading the openai api key\n",
    "openai.api_key_path = '.\\openai_key'"
   ]
  },
  {
   "cell_type": "markdown",
   "metadata": {},
   "source": [
    "# Scraping Facebook Posts"
   ]
  },
  {
   "cell_type": "code",
   "execution_count": 4,
   "metadata": {},
   "outputs": [],
   "source": [
    "# Create an OpenAI prompt\n",
    "OpenAI_prompt = 'Write an email to the housing and community affairs (HCA) committee thanking them for electing me as the new co-chair. Let them know that I would be very keen to meet them individually or in sub-groups to better understand the demands of their communities so that we can make the HCA run better.'"
   ]
  },
  {
   "cell_type": "code",
   "execution_count": 11,
   "metadata": {},
   "outputs": [],
   "source": [
    "openai_output = openai.Completion.create(\n",
    "    model=\"text-davinci-003\",\n",
    "    prompt=OpenAI_prompt,\n",
    "    temperature=0.6,\n",
    "    max_tokens=300,\n",
    ")\n"
   ]
  },
  {
   "cell_type": "code",
   "execution_count": 12,
   "metadata": {},
   "outputs": [
    {
     "name": "stdout",
     "output_type": "stream",
     "text": [
      "{\n",
      "  \"choices\": [\n",
      "    {\n",
      "      \"finish_reason\": \"stop\",\n",
      "      \"index\": 0,\n",
      "      \"logprobs\": null,\n",
      "      \"text\": \"\\n\\nSubject: Congratulations on Electing Me as Co-Chair\\n\\nDear HCA Committee,\\n\\nI want to extend my sincere gratitude for electing me as the new co-chair of the Housing and Community Affairs Committee. I am honored to serve you and am eager to make a positive impact on the committee.\\n\\nIn order to better understand the needs of the communities we serve, I would be very keen to meet with each of you individually, or in sub-groups. I believe this will help us to run the HCA more effectively and efficiently.\\n\\nI look forward to serving you and to working together to make a difference in our communities.\\n\\nSincerely,\\n\\n[Your Name]\"\n",
      "    }\n",
      "  ],\n",
      "  \"created\": 1681340171,\n",
      "  \"id\": \"cmpl-74dfnLwXBkWOZn1XkVSqAc3ghyrEu\",\n",
      "  \"model\": \"text-davinci-003\",\n",
      "  \"object\": \"text_completion\",\n",
      "  \"usage\": {\n",
      "    \"completion_tokens\": 145,\n",
      "    \"prompt_tokens\": 63,\n",
      "    \"total_tokens\": 208\n",
      "  }\n",
      "}\n"
     ]
    }
   ],
   "source": [
    "# Print the prompt\n",
    "\n",
    "# print(openai_output.choices[0].text)\n",
    "print(openai_output)"
   ]
  },
  {
   "cell_type": "code",
   "execution_count": 13,
   "metadata": {},
   "outputs": [
    {
     "name": "stdout",
     "output_type": "stream",
     "text": [
      "\n",
      "\n",
      "Subject: Congratulations on Electing Me as Co-Chair\n",
      "\n",
      "Dear HCA Committee,\n",
      "\n",
      "I want to extend my sincere gratitude for electing me as the new co-chair of the Housing and Community Affairs Committee. I am honored to serve you and am eager to make a positive impact on the committee.\n",
      "\n",
      "In order to better understand the needs of the communities we serve, I would be very keen to meet with each of you individually, or in sub-groups. I believe this will help us to run the HCA more effectively and efficiently.\n",
      "\n",
      "I look forward to serving you and to working together to make a difference in our communities.\n",
      "\n",
      "Sincerely,\n",
      "\n",
      "[Your Name]\n"
     ]
    }
   ],
   "source": [
    "print(openai_output.choices[0].text)"
   ]
  }
 ],
 "metadata": {
  "kernelspec": {
   "display_name": "openai_project",
   "language": "python",
   "name": "python3"
  },
  "language_info": {
   "codemirror_mode": {
    "name": "ipython",
    "version": 3
   },
   "file_extension": ".py",
   "mimetype": "text/x-python",
   "name": "python",
   "nbconvert_exporter": "python",
   "pygments_lexer": "ipython3",
   "version": "3.10.10"
  },
  "orig_nbformat": 4
 },
 "nbformat": 4,
 "nbformat_minor": 2
}
