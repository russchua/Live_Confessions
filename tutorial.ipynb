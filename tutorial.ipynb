{
 "cells": [
  {
   "cell_type": "code",
   "execution_count": 1,
   "metadata": {},
   "outputs": [],
   "source": [
    "import openai\n",
    "from facebook_scraper import get_posts\n",
    "import json\n",
    "from pathlib import Path"
   ]
  },
  {
   "cell_type": "code",
   "execution_count": 2,
   "metadata": {},
   "outputs": [],
   "source": [
    "# Loading the openai api key\n",
    "openai.api_key_path = '.\\openai_key'\n",
    "\n",
    "my_dict = {\n",
    "    # 'cookies': '.\\cookies.json',\n",
    "    'cookies': 'www.facebook.com_cookies.json',\n",
    "    'options': {\"comments\": \"MAX_COMMENTS\", \"progress\": True}\n",
    "}\n"
   ]
  },
  {
   "attachments": {},
   "cell_type": "markdown",
   "metadata": {},
   "source": [
    "# Scraping Facebook Posts"
   ]
  },
  {
   "cell_type": "code",
   "execution_count": 3,
   "metadata": {},
   "outputs": [
    {
     "name": "stderr",
     "output_type": "stream",
     "text": [
      "c:\\Users\\russc\\OneDrive - Massachusetts Institute of Technology\\Documents\\Side Projects\\Live_Confessions\\.conda\\lib\\site-packages\\facebook_scraper\\facebook_scraper.py:912: UserWarning: Facebook says 'Unsupported Browser'\n",
      "  warnings.warn(f\"Facebook says 'Unsupported Browser'\")\n",
      "c:\\Users\\russc\\OneDrive - Massachusetts Institute of Technology\\Documents\\Side Projects\\Live_Confessions\\.conda\\lib\\site-packages\\IPython\\core\\interactiveshell.py:3505: UserWarning: A low page limit (<=2) might return no results, try increasing the limit\n",
      "  exec(code_obj, self.user_global_ns, self.user_ns)\n"
     ]
    },
    {
     "name": "stdout",
     "output_type": "stream",
     "text": [
      "{'post_id': '604328688391195', 'text': \"#67928 Me when a man uses me for emotional and physical support but with no intention of committing to me: 😡☹️😖\\n\\nMe realizing I'm doing the same to him: 👁️👄👁️\", 'post_text': \"#67928 Me when a man uses me for emotional and physical support but with no intention of committing to me: 😡☹️😖\\n\\nMe realizing I'm doing the same to him: 👁️👄👁️\", 'shared_text': '', 'original_text': None, 'time': datetime.datetime(2023, 4, 22, 14, 43, 20), 'timestamp': 1682189000, 'image': None, 'image_lowquality': 'https://scontent-lga3-1.xx.fbcdn.net/m1/v/t6/An_F9bJG7govfshSMBkvcRLcxT0jmiXVYKtr7lgH5AHgUrjjpZ1OD0xyxXYgf7arc0lWgCdrR_KN4Mg7RSN3Gm3W6Gg03N1tQ-ZXzVvFJ_KvvB4.png?ccb=10-5&oh=00_AfDsewcK5aajHB4OvBXr4sugMFubcpo5Dgz-sxlqS4R4Yw&oe=646CF0A7&_nc_sid=55e238', 'images': [], 'images_description': [], 'images_lowquality': ['https://scontent-lga3-1.xx.fbcdn.net/m1/v/t6/An_F9bJG7govfshSMBkvcRLcxT0jmiXVYKtr7lgH5AHgUrjjpZ1OD0xyxXYgf7arc0lWgCdrR_KN4Mg7RSN3Gm3W6Gg03N1tQ-ZXzVvFJ_KvvB4.png?ccb=10-5&oh=00_AfDsewcK5aajHB4OvBXr4sugMFubcpo5Dgz-sxlqS4R4Yw&oe=646CF0A7&_nc_sid=55e238', 'https://scontent-lga3-1.xx.fbcdn.net/m1/v/t6/An_UvxJXg9tdnLU3Y5qjPi0200MLilhzPXUgxzGjQzUMaNcmjdZA6anyrngvkdub33NZzZhd51fpCAEzNHFhko5aKRFP5fS1w_lKwYrzcNLupv27.png?ccb=10-5&oh=00_AfDZVXSaQGAXa1Ag4sAHA0pBf8KP54cvxxpN1yPCvpoSKQ&oe=646CE5F9&_nc_sid=55e238'], 'images_lowquality_description': ['Haha', 'Like'], 'video': None, 'video_duration_seconds': None, 'video_height': None, 'video_id': None, 'video_quality': None, 'video_size_MB': None, 'video_thumbnail': None, 'video_watches': None, 'video_width': None, 'likes': 16, 'comments': 0, 'shares': 0, 'post_url': 'https://facebook.com/beaverconfessions/posts/604328688391195', 'link': None, 'links': [{'link': '/story.php?story_fbid=pfbid0pVrZq3CRGGYZ9DQnGtVUW8JZLYaGBcmpuCXX8qoUVz7bppPzLdS7Awe8UF7Jo1Ztl&id=100064422082976&eav=AfatH4WghdBlNZOtobCybHRj-A8G5bKu8A7gOlHRnewrr_RspjK6ofebsIVYZJOwCsY&m_entstream_source=timeline&refid=17&_ft_=encrypted_tracking_data.0AY-rtvoujisKcEADE5B-rYxKNvdPUf-_bWDYQzgcHxXXyy1cKurNpkPo4cMq3pVWvIzQzV-Z7CMFNSu36MUNTyuXJBb9M-2zCbfjpQcWIlrUCup0XzT2yc58wvvfwqppxmGchzX0hhMYQ8f7jRkdVYJeKYVFuF5UWJj2llDSeXEHSae5a5lvpW00glE_IDr9WAG27jEoS6MYQkm40qr77482Sv-JfAPzYPLcjMLyCkuRkprurkCo0Od5CMWSycl8Pl1x6M-\\\\-\\\\-IgcW4SV5K3x-c5tMq3GH5k9kuYvFladKJUiJbrTU52qw-TwhXdREHc3ZPyPuydINoxUu2xu9_k0kRq2gPprhtMAXRjj805wxS8X2cApTr2KETbI7jzQf3eqUgoL-9Vbg_3nOt2bcq3XK6E0l2ix62d1oLyRv4vBxwZRNU1dSUiFkq4zw5kld2ICWIh7Lvza8meSrPsdSqxdMrCy-qiSxXFkRQdnf8PQ5f-QbCDjJYDPgnv3xdErgnMoYlkQpMQ4XIz2ZouKZKqEwmF__D6dmbBwEUJQUq6xOD-jUmX-AdCt1M3ga6GJcb4xmGCX2xjsWmHG6YDnHpwHDqCIVMODMVvMkG2RIhH-RbOdQanW8oifbGUQEOHbu12iA3YacxnFz7L0Uo8WDzEyM3xuUVhJDsRlvVRU7542JqSmIXtT1haHpt_lVPF096Sf60sFErTJ5Yjkxb0OdRQU0ALFGSH2ePXbRBNItVWOfN23_eZPmJt1YIVEJYvD8-\\\\-\\\\wheUhh1xy86vmEgrJUGqejnKa_LdUrH89EN3SH0MiNs1WeV9R9wMFxQEi2Q2fAvCpfrFAa-6rrzCwRIhiZ-TASVsADRnZiWgP3NXtLs-_NEzq35aik0SfUjpbvqVTHbBKcIzJgHJDFh1edJTaR8zTn78yN_lmCsDYFO9HbQ3nLbJMBe4AJY5GL75HIBJywqWzjmKyGcgewxMyPoVhLqrKYHc5mREWtAGEfqFPveMlef90kZ72Vp5Hg26qdhngj0u_KRbmpJFcgwrElMBVvYVC8gGBzNyLtyESHVBL6HDltzjLJ_hpxts_Hn_2EZwB8EbYcRPin8xU42GIxSsE91q1HUugzrtzs8GY5FqvNkj2ClgXVzn5gnq2dN3koG90Xu-hR9uAFwqyWx7vngI09iKf1CD2Zjj9q_Dg-SEhOVaVB99-rHbzOPjh-05tqew6Arj7-1Lqg0rdLuJY_xKFk_szdW9LeqssJqe3Yj6emPC0ScM7GuxoqePDjZq2ysRq1R9tcXirExhh-5GNxt0IH985BBuWAxRafYwez4BvJNuNQcfr_PGXly6dbtFBdRjYCtH1U8RR&__tn__=%2As%2As-R&paipv=0', 'text': ''}], 'user_id': '100064422082976', 'username': 'MIT Confessions', 'user_url': 'https://facebook.com/beaverconfessions?lst=100001717647780%3A100064422082976%3A1682279893&eav=AfYPe_242MmQxD25v0CDkIoCMLKK0jvKnCRu8KhDP-LiYi27awwfR2sqtknn3SvRbJI&refid=17&_ft_=encrypted_tracking_data.0AY-rtvoujisKcEADE5B-rYxKNvdPUf-_bWDYQzgcHxXXyy1cKurNpkPo4cMq3pVWvIzQzV-Z7CMFNSu36MUNTyuXJBb9M-2zCbfjpQcWIlrUCup0XzT2yc58wvvfwqppxmGchzX0hhMYQ8f7jRkdVYJeKYVFuF5UWJj2llDSeXEHSae5a5lvpW00glE_IDr9WAG27jEoS6MYQkm40qr77482Sv-JfAPzYPLcjMLyCkuRkprurkCo0Od5CMWSycl8Pl1x6M-\\\\-\\\\-IgcW4SV5K3x-c5tMq3GH5k9kuYvFladKJUiJbrTU52qw-TwhXdREHc3ZPyPuydINoxUu2xu9_k0kRq2gPprhtMAXRjj805wxS8X2cApTr2KETbI7jzQf3eqUgoL-9Vbg_3nOt2bcq3XK6E0l2ix62d1oLyRv4vBxwZRNU1dSUiFkq4zw5kld2ICWIh7Lvza8meSrPsdSqxdMrCy-qiSxXFkRQdnf8PQ5f-QbCDjJYDPgnv3xdErgnMoYlkQpMQ4XIz2ZouKZKqEwmF__D6dmbBwEUJQUq6xOD-jUmX-AdCt1M3ga6GJcb4xmGCX2xjsWmHG6YDnHpwHDqCIVMODMVvMkG2RIhH-RbOdQanW8oifbGUQEOHbu12iA3YacxnFz7L0Uo8WDzEyM3xuUVhJDsRlvVRU7542JqSmIXtT1haHpt_lVPF096Sf60sFErTJ5Yjkxb0OdRQU0ALFGSH2ePXbRBNItVWOfN23_eZPmJt1YIVEJYvD8-\\\\-\\\\wheUhh1xy86vmEgrJUGqejnKa_LdUrH89EN3SH0MiNs1WeV9R9wMFxQEi2Q2fAvCpfrFAa-6rrzCwRIhiZ-TASVsADRnZiWgP3NXtLs-_NEzq35aik0SfUjpbvqVTHbBKcIzJgHJDFh1edJTaR8zTn78yN_lmCsDYFO9HbQ3nLbJMBe4AJY5GL75HIBJywqWzjmKyGcgewxMyPoVhLqrKYHc5mREWtAGEfqFPveMlef90kZ72Vp5Hg26qdhngj0u_KRbmpJFcgwrElMBVvYVC8gGBzNyLtyESHVBL6HDltzjLJ_hpxts_Hn_2EZwB8EbYcRPin8xU42GIxSsE91q1HUugzrtzs8GY5FqvNkj2ClgXVzn5gnq2dN3koG90Xu-hR9uAFwqyWx7vngI09iKf1CD2Zjj9q_Dg-SEhOVaVB99-rHbzOPjh-05tqew6Arj7-1Lqg0rdLuJY_xKFk_szdW9LeqssJqe3Yj6emPC0ScM7GuxoqePDjZq2ysRq1R9tcXirExhh-5GNxt0IH985BBuWAxRafYwez4BvJNuNQcfr_PGXly6dbtFBdRjYCtH1U8RR&__tn__=C-R&paipv=0', 'is_live': False, 'factcheck': None, 'shared_post_id': None, 'shared_time': None, 'shared_user_id': None, 'shared_username': None, 'shared_post_url': None, 'available': True, 'comments_full': [], 'reactors': None, 'w3_fb_url': None, 'reactions': None, 'reaction_count': 16, 'with': None, 'page_id': '462508190484900', 'sharers': None, 'image_id': None, 'image_ids': [], 'was_live': False}\n",
      "\n",
      "\n",
      "\n",
      "{'post_id': '604328618391202', 'text': '#67927 Quick poll for seniors (from a fellow senior): Would you be open to starting a relationship at this point in the semester?\\n\\nHaha for yes, but only with grad students and older\\nHeart for yes, but only with other seniors and older\\nWow for yes, with anyone\\nAngry for no', 'post_text': '#67927 Quick poll for seniors (from a fellow senior): Would you be open to starting a relationship at this point in the semester?\\n\\nHaha for yes, but only with grad students and older\\nHeart for yes, but only with other seniors and older\\nWow for yes, with anyone\\nAngry for no', 'shared_text': '', 'original_text': None, 'time': datetime.datetime(2023, 4, 22, 14, 43, 8), 'timestamp': 1682188988, 'image': None, 'image_lowquality': 'https://scontent-lga3-1.xx.fbcdn.net/m1/v/t6/An_0KlxkBZwTJgSV9p2pDQkaZcuO9nFP4R72nyZmCnWKIxG_MSUbtZ_uBFHkKhQVvjgeou7ijfWCAKaRfSRFqQS9RcziMUL4BTtfpxJ2KfylUgpq.png?ccb=10-5&oh=00_AfAVazHo7pQGoExFQeNEAKylx0qYHWMzmElWDHH6eEKvEQ&oe=646CFB53&_nc_sid=55e238', 'images': [], 'images_description': [], 'images_lowquality': ['https://scontent-lga3-1.xx.fbcdn.net/m1/v/t6/An_0KlxkBZwTJgSV9p2pDQkaZcuO9nFP4R72nyZmCnWKIxG_MSUbtZ_uBFHkKhQVvjgeou7ijfWCAKaRfSRFqQS9RcziMUL4BTtfpxJ2KfylUgpq.png?ccb=10-5&oh=00_AfAVazHo7pQGoExFQeNEAKylx0qYHWMzmElWDHH6eEKvEQ&oe=646CFB53&_nc_sid=55e238', 'https://scontent-lga3-1.xx.fbcdn.net/m1/v/t6/An-0mG6nK_Uk-eBw_Z5hXaQPl2Il-GAtgNisMF_CPi6qvu85Lx2-5PalMJvS7fIbuodHct0V3tJrvSxzau9mOcNxqVhoiy8lxxQ9edz-6r6_o9YroQ.png?ccb=10-5&oh=00_AfCgfalNR9bIhtBhf9kbzeloq-VwEPxQkHVVJAduEw9rHw&oe=646CF084&_nc_sid=55e238', 'https://scontent-lga3-1.xx.fbcdn.net/m1/v/t6/An-OzaYGRs8HJMUUdL-Q9pzzUe-6dYQYH0YuulfJGzClIwZB6ubbGwhtChGS8FxnChgEmifrcrhalKyw7ubZeQmjvur00_4Bm3UKlJBnXJyqwKsR.png?ccb=10-5&oh=00_AfBnG6dOcnzOD7dNYYJf0YWnUafiATeWMfzjLbpC0fTxSw&oe=646CFCEB&_nc_sid=55e238'], 'images_lowquality_description': ['Wow', 'Sad', 'Angry'], 'video': None, 'video_duration_seconds': None, 'video_height': None, 'video_id': None, 'video_quality': None, 'video_size_MB': None, 'video_thumbnail': None, 'video_watches': None, 'video_width': None, 'likes': 13, 'comments': 0, 'shares': 0, 'post_url': 'https://facebook.com/beaverconfessions/posts/604328618391202', 'link': None, 'links': [{'link': '/story.php?story_fbid=pfbid02VYyu9LWrjhqLf4gbnqaHN4sHPTYc21fQ1zGFqLZBhuDwUhZL2QLPcNwTEdvDpq9Al&id=100064422082976&eav=AfZS6vAb_ZzePm_oxkKtnrSFdPDxL0FTyevLLqZEU-lHkTOoAGoo6AurNTA8bHRTvq0&m_entstream_source=timeline&refid=17&_ft_=encrypted_tracking_data.0AY9tcu2F4HcEBznppqddopVb8JU4pxz6o2ZQCLcsMDgCNSNyssrRm8nCYlgyxM2dZADhAYeBPjWJCqP1TkEJLHJBB6POHhD8gbkVKa4y9PSrCJkEqRRK3gdxISvdwlk3nawNw9wMbmHSaeWIDe-mGOQDiCfgD5nPe-1deanWYUpSkVUQ9Tq7XLvlOk7WSEyb5sA6MMk-0xpvYFQsjqctXi63EmGKUx3Ztm6vndVR806UiDR4rb1G-F00up_PJ37pNmmClBWqwti9SNsFj2wuT6Sn6gZIM_Bv2pIIyybzHjtjiolG4FNBCUSpOqlWeT59lzEnj-JIJ_CuWFmh8Uj0hWrznlt0G_gvZzCdwvttNdWIzUrka28_Jal5__iwZkpAwgYy3mtqXp29G07kEERWPehAdkGsUEdFbo9Xdtt5nD_gD0kBY6z1OvangG7_CgD41Qzd8WUIaBePyisoMy7UItB6kgKfP50zbiyL570I18puvGzYa0kQ_USsD7boyRbVuVWwKcc3oA9j6ahI8maQ-8_7Yk94c4IVgwujaaEXQY9pjJcwEiltdpn3o0xXca05CsaLZUveTuQBoT9u6qu2wagOLCMwZ2z0SZ14FbwV6VbV9GwFhliRhkSqIlCoG4PWHZjMPWyX_2wa3Tl61e2EKou3Pwp-4Xvd6xZk0SJksbmyE92v5gsy9eynAAHPgFXxhQVPEGbVNZweiJ0ZPydlIWL0FFlCs8JgHV8DhwaYna9Y1i7w7XGaNrx6rCyA8HmjZtYViNZAUu0bbw0t0m1w9o2nqopl6AXiTjaH5uZ-jk1CH8wxwAUh-QbhnwO_23EX-bmjpIcNRRsh-cO0iCSdkXtdEGnYxBKKSE3zjuM8_lXbPLuruMdhVoPMH5bLu1nPOmERBE_kgaSJmG2MUNNaTuZW38wjOvCgJTCAnNwN6vaXxOVVTr4ZIBnzOP5lvjsEnzQZ0h9vJbzdjFAA8xTMrfjBnQwoa44sqjglT8IvgmEbY_9lOhojqtasjohQq2wSR7guSzEmVhALXYUwagn_nxCkq87dGYxtcUay2B1iMgqoVcOATElKnYjqcUTVIl6PTyFN13O_Ee78EHGUwrR3UsY5cOrjOK6CjTYrRTYeCqQwTP6hDGnPGZozHpzOy0cSvqzOaXaws5OiESqLaGJ8yTX57VSG5s46s4QdIXpJIhHnStSbYOj33aYMDub4kHTFq_4SISp8_jNV7zvl5vjRrukbmPZ3WRA_DUOrAqtF_BsFxjeU0RN8mfQvAsVgq45MpkWBa2JI8_7KTsV6JF9FmncgeDeG08L4Uh88ktYFwAvsYDDVtJCOP8M2sWPlgRdkfpb5&__tn__=%2As%2As-R&paipv=0', 'text': ''}], 'user_id': '100064422082976', 'username': 'MIT Confessions', 'user_url': 'https://facebook.com/beaverconfessions?lst=100001717647780%3A100064422082976%3A1682279893&eav=AfYPe_242MmQxD25v0CDkIoCMLKK0jvKnCRu8KhDP-LiYi27awwfR2sqtknn3SvRbJI&refid=17&_ft_=encrypted_tracking_data.0AY9tcu2F4HcEBznppqddopVb8JU4pxz6o2ZQCLcsMDgCNSNyssrRm8nCYlgyxM2dZADhAYeBPjWJCqP1TkEJLHJBB6POHhD8gbkVKa4y9PSrCJkEqRRK3gdxISvdwlk3nawNw9wMbmHSaeWIDe-mGOQDiCfgD5nPe-1deanWYUpSkVUQ9Tq7XLvlOk7WSEyb5sA6MMk-0xpvYFQsjqctXi63EmGKUx3Ztm6vndVR806UiDR4rb1G-F00up_PJ37pNmmClBWqwti9SNsFj2wuT6Sn6gZIM_Bv2pIIyybzHjtjiolG4FNBCUSpOqlWeT59lzEnj-JIJ_CuWFmh8Uj0hWrznlt0G_gvZzCdwvttNdWIzUrka28_Jal5__iwZkpAwgYy3mtqXp29G07kEERWPehAdkGsUEdFbo9Xdtt5nD_gD0kBY6z1OvangG7_CgD41Qzd8WUIaBePyisoMy7UItB6kgKfP50zbiyL570I18puvGzYa0kQ_USsD7boyRbVuVWwKcc3oA9j6ahI8maQ-8_7Yk94c4IVgwujaaEXQY9pjJcwEiltdpn3o0xXca05CsaLZUveTuQBoT9u6qu2wagOLCMwZ2z0SZ14FbwV6VbV9GwFhliRhkSqIlCoG4PWHZjMPWyX_2wa3Tl61e2EKou3Pwp-4Xvd6xZk0SJksbmyE92v5gsy9eynAAHPgFXxhQVPEGbVNZweiJ0ZPydlIWL0FFlCs8JgHV8DhwaYna9Y1i7w7XGaNrx6rCyA8HmjZtYViNZAUu0bbw0t0m1w9o2nqopl6AXiTjaH5uZ-jk1CH8wxwAUh-QbhnwO_23EX-bmjpIcNRRsh-cO0iCSdkXtdEGnYxBKKSE3zjuM8_lXbPLuruMdhVoPMH5bLu1nPOmERBE_kgaSJmG2MUNNaTuZW38wjOvCgJTCAnNwN6vaXxOVVTr4ZIBnzOP5lvjsEnzQZ0h9vJbzdjFAA8xTMrfjBnQwoa44sqjglT8IvgmEbY_9lOhojqtasjohQq2wSR7guSzEmVhALXYUwagn_nxCkq87dGYxtcUay2B1iMgqoVcOATElKnYjqcUTVIl6PTyFN13O_Ee78EHGUwrR3UsY5cOrjOK6CjTYrRTYeCqQwTP6hDGnPGZozHpzOy0cSvqzOaXaws5OiESqLaGJ8yTX57VSG5s46s4QdIXpJIhHnStSbYOj33aYMDub4kHTFq_4SISp8_jNV7zvl5vjRrukbmPZ3WRA_DUOrAqtF_BsFxjeU0RN8mfQvAsVgq45MpkWBa2JI8_7KTsV6JF9FmncgeDeG08L4Uh88ktYFwAvsYDDVtJCOP8M2sWPlgRdkfpb5&__tn__=C-R&paipv=0', 'is_live': False, 'factcheck': None, 'shared_post_id': None, 'shared_time': None, 'shared_user_id': None, 'shared_username': None, 'shared_post_url': None, 'available': True, 'comments_full': [], 'reactors': None, 'w3_fb_url': None, 'reactions': None, 'reaction_count': 13, 'with': None, 'page_id': '462508190484900', 'sharers': None, 'image_id': None, 'image_ids': [], 'was_live': False}\n",
      "\n",
      "\n",
      "\n"
     ]
    },
    {
     "name": "stderr",
     "output_type": "stream",
     "text": [
      "c:\\Users\\russc\\OneDrive - Massachusetts Institute of Technology\\Documents\\Side Projects\\Live_Confessions\\.conda\\lib\\site-packages\\dateparser\\freshness_date_parser.py:76: PytzUsageWarning: The localize method is no longer necessary, as this time zone supports the fold attribute (PEP 495). For more details on migrating to a PEP 495-compliant implementation, see https://pytz-deprecation-shim.readthedocs.io/en/latest/migration.html\n",
      "  now = self.get_local_tz().localize(now)\n"
     ]
    },
    {
     "data": {
      "application/vnd.jupyter.widget-view+json": {
       "model_id": "989e914e1ef44025b210e9a53dd15825",
       "version_major": 2,
       "version_minor": 0
      },
      "text/plain": [
       "  0%|          | 0/1000000000.0 [00:00<?, ?it/s]"
      ]
     },
     "metadata": {},
     "output_type": "display_data"
    },
    {
     "name": "stdout",
     "output_type": "stream",
     "text": [
      "{'post_id': '604328561724541', 'text': \"#67926 Doechii for spring fest is the redemption arc we didn't know we needed after missing doja in 2020\", 'post_text': \"#67926 Doechii for spring fest is the redemption arc we didn't know we needed after missing doja in 2020\", 'shared_text': '', 'original_text': None, 'time': datetime.datetime(2023, 4, 22, 14, 43, 1), 'timestamp': 1682188981, 'image': None, 'image_lowquality': 'https://scontent-lga3-1.xx.fbcdn.net/m1/v/t6/An-SJYN61eefFdoaV8pa0G_5_APCa0prZaqkZGXpCFeUCLCg89UPOqSkSZxJkLy0hAKKpUIPEB91mo9yBBfcAqcwmpEu5jN_jmJufFtJoVJCUklu.png?ccb=10-5&oh=00_AfAI9KO3sE3BY3YRLTZHUDOYVy2QJbHnsOt436P9_lBJVw&oe=646CEADF&_nc_sid=55e238', 'images': [], 'images_description': [], 'images_lowquality': ['https://scontent-lga3-1.xx.fbcdn.net/m1/v/t6/An-SJYN61eefFdoaV8pa0G_5_APCa0prZaqkZGXpCFeUCLCg89UPOqSkSZxJkLy0hAKKpUIPEB91mo9yBBfcAqcwmpEu5jN_jmJufFtJoVJCUklu.png?ccb=10-5&oh=00_AfAI9KO3sE3BY3YRLTZHUDOYVy2QJbHnsOt436P9_lBJVw&oe=646CEADF&_nc_sid=55e238', 'https://scontent-lga3-1.xx.fbcdn.net/m1/v/t6/An_UvxJXg9tdnLU3Y5qjPi0200MLilhzPXUgxzGjQzUMaNcmjdZA6anyrngvkdub33NZzZhd51fpCAEzNHFhko5aKRFP5fS1w_lKwYrzcNLupv27.png?ccb=10-5&oh=00_AfDZVXSaQGAXa1Ag4sAHA0pBf8KP54cvxxpN1yPCvpoSKQ&oe=646CE5F9&_nc_sid=55e238'], 'images_lowquality_description': ['Love', 'Like'], 'video': None, 'video_duration_seconds': None, 'video_height': None, 'video_id': None, 'video_quality': None, 'video_size_MB': None, 'video_thumbnail': None, 'video_watches': None, 'video_width': None, 'likes': 23, 'comments': 1, 'shares': 0, 'post_url': 'https://facebook.com/beaverconfessions/posts/604328561724541', 'link': None, 'links': [{'link': '/story.php?story_fbid=pfbid0Gv5G3h2bingae7rGGRo2XK9AVTGs2dNaxQQjU18xh8Y8A8GfanUv6xeUrpctTUbMl&id=100064422082976&eav=Afbc8CrwxF1lwJfXvQlbUI-gs_oX2y9PJJg3x09-4Bn7_N-nhLp4mY8O_FgsijcQL_0&m_entstream_source=timeline&refid=17&_ft_=encrypted_tracking_data.0AY9IDKhzw-ZzeH2DLhoMaI_MV8Sl5qCvA5M2GOw90w1yhsXUP3SL56_1XOYJfr-9hQdikyoyuzdVVRAfMvi899RuKQDvaxJOhwG_yZkA7oYhvTVS0EIyvPZ5yEA6irGU5xeDN8CVAtrri9QlzWWRv2j0W8Xl_YNRA2HMNklaJIpBaK1HaxJVRgPYIFjq4razwkJpfEydqLUaRxyi9oNDDhmXkAvsZ9Y-QfmMDYhEkJ2vrBhlxgVg_vEWMP57zoEk774shmmRfKOrYi5EIbmUPMpyLccHrTr0GgsupYXN6JouKMG52rIAtng_mnU1Q6scMAOA8_KrZW9X3ek-1YlHG4J7nBTI423PFpGBUfH98iv5OUjKLobmi9VG5WH_sCzJkilvL6LED4SALoQN2OaGZa2Wg5xPypRKxBucMAMAkPwz2DnvfsMFYUkbvia6oXY3MjB0C8ApLv5TNm2Df-16C31zxFIw3aGdc3D66NdPSEy4PZjSzXH5PGMCBQf5Z6vDmcTgnVCNGeJ23Oo48Mt957tA4rP1DNGNjrtgjeftzpfqu-NG6Fv_eeF6FYQWr-15znZRaRKymhvsUvPtrzqqRGspaghZBeE9jgVznSuJ89eu6ABFCGnbn7NVj3xEoV53-pQ4kNcL4AnQ73cM6JVilvfOSDv_ny56wXBCviQmbR7rQ8y3Vlv4TnN6zCbxLoeVhNAjtXlcPF_ZiKq4em8Vj_-pyZYwQbC7esZBZ-0U3TbnBc1bKmv8Ne2cQXzRjOhnLhzWxXVTffArPigxK60nvYD955LwLd1CbV0UYjFyTIBy6wdD3vdASA3_tcNDQfzmFlvpnUeLJFjm8ZULZNOG8Wpl67qhtaSHCarPBuqkME3ldbsWHqoDDvtTwdRWZ8Om3nSW4JhllRw8dZSuQ5-qa3pJMYJ86ro5Sgny01-5Wxlp0Gq-1sfs4e0xBdCmosR_fIqkdJ9nMG6Njx8UK67RRj_ZGWfk6qFCP5UI2fc9zdjmQ6R6Jvi8A2UqZ6zafte0HQ-1ZX_U0qXcX_fLuDZwNrlNs0JXOMHDV1HaS_1htnhNjIv_TSXyJEbOkLh5U3ISEm-3j9Hl2wAYtnZNPA3Y299Ywimsp9XWAdEObVqKYD4Ko-D3rjxADtTbPjvtW-usSgYPK7zzagE9IFfbhaQx_QQOyrnp8Cdmowi1V3eI865nqFQWy2Er_bhrZJDa3sgoSugMikSC7IBkCync_jQBSvnLy-7if_SryirSf6T_esPR7AhJgIHBqv88ZvyjZtdo_dbRqyQcETnc8fxGHZflaWw0BJMkwtwqG5whK4R2lca-O0U3whb01B_Ix-35L5MuwpUy&__tn__=%2As%2As-R&paipv=0', 'text': ''}], 'user_id': '100064422082976', 'username': 'MIT Confessions', 'user_url': 'https://facebook.com/beaverconfessions?lst=100001717647780%3A100064422082976%3A1682279893&eav=AfYPe_242MmQxD25v0CDkIoCMLKK0jvKnCRu8KhDP-LiYi27awwfR2sqtknn3SvRbJI&refid=17&_ft_=encrypted_tracking_data.0AY9IDKhzw-ZzeH2DLhoMaI_MV8Sl5qCvA5M2GOw90w1yhsXUP3SL56_1XOYJfr-9hQdikyoyuzdVVRAfMvi899RuKQDvaxJOhwG_yZkA7oYhvTVS0EIyvPZ5yEA6irGU5xeDN8CVAtrri9QlzWWRv2j0W8Xl_YNRA2HMNklaJIpBaK1HaxJVRgPYIFjq4razwkJpfEydqLUaRxyi9oNDDhmXkAvsZ9Y-QfmMDYhEkJ2vrBhlxgVg_vEWMP57zoEk774shmmRfKOrYi5EIbmUPMpyLccHrTr0GgsupYXN6JouKMG52rIAtng_mnU1Q6scMAOA8_KrZW9X3ek-1YlHG4J7nBTI423PFpGBUfH98iv5OUjKLobmi9VG5WH_sCzJkilvL6LED4SALoQN2OaGZa2Wg5xPypRKxBucMAMAkPwz2DnvfsMFYUkbvia6oXY3MjB0C8ApLv5TNm2Df-16C31zxFIw3aGdc3D66NdPSEy4PZjSzXH5PGMCBQf5Z6vDmcTgnVCNGeJ23Oo48Mt957tA4rP1DNGNjrtgjeftzpfqu-NG6Fv_eeF6FYQWr-15znZRaRKymhvsUvPtrzqqRGspaghZBeE9jgVznSuJ89eu6ABFCGnbn7NVj3xEoV53-pQ4kNcL4AnQ73cM6JVilvfOSDv_ny56wXBCviQmbR7rQ8y3Vlv4TnN6zCbxLoeVhNAjtXlcPF_ZiKq4em8Vj_-pyZYwQbC7esZBZ-0U3TbnBc1bKmv8Ne2cQXzRjOhnLhzWxXVTffArPigxK60nvYD955LwLd1CbV0UYjFyTIBy6wdD3vdASA3_tcNDQfzmFlvpnUeLJFjm8ZULZNOG8Wpl67qhtaSHCarPBuqkME3ldbsWHqoDDvtTwdRWZ8Om3nSW4JhllRw8dZSuQ5-qa3pJMYJ86ro5Sgny01-5Wxlp0Gq-1sfs4e0xBdCmosR_fIqkdJ9nMG6Njx8UK67RRj_ZGWfk6qFCP5UI2fc9zdjmQ6R6Jvi8A2UqZ6zafte0HQ-1ZX_U0qXcX_fLuDZwNrlNs0JXOMHDV1HaS_1htnhNjIv_TSXyJEbOkLh5U3ISEm-3j9Hl2wAYtnZNPA3Y299Ywimsp9XWAdEObVqKYD4Ko-D3rjxADtTbPjvtW-usSgYPK7zzagE9IFfbhaQx_QQOyrnp8Cdmowi1V3eI865nqFQWy2Er_bhrZJDa3sgoSugMikSC7IBkCync_jQBSvnLy-7if_SryirSf6T_esPR7AhJgIHBqv88ZvyjZtdo_dbRqyQcETnc8fxGHZflaWw0BJMkwtwqG5whK4R2lca-O0U3whb01B_Ix-35L5MuwpUy&__tn__=C-R&paipv=0', 'is_live': False, 'factcheck': None, 'shared_post_id': None, 'shared_time': None, 'shared_user_id': None, 'shared_username': None, 'shared_post_url': None, 'available': True, 'comments_full': [{'comment_id': '652057200014664', 'comment_url': 'https://facebook.com/652057200014664', 'commenter_id': '100001458251266', 'commenter_url': 'https://facebook.com/jacobrlerma?eav=AfYx8ctZbuRU-TDdf8rLNeIDPDE4ZM1FcK5v4fhnj7oHCK2HWPKKU_HI2_hpp57tr6k&fref=nf&rc=p&refid=52&__tn__=R&paipv=0', 'commenter_name': 'Jacob Lerma', 'commenter_meta': None, 'comment_text': 'I got my tickets IMMEDIATELY and I’ve never been to Springfest before (as a senior)', 'comment_time': datetime.datetime(2023, 4, 22, 0, 0), 'comment_image': None, 'comment_reactors': [], 'comment_reactions': None, 'comment_reaction_count': None, 'replies': []}], 'reactors': None, 'w3_fb_url': None, 'reactions': None, 'reaction_count': 23, 'with': None, 'page_id': '462508190484900', 'sharers': None, 'image_id': None, 'image_ids': [], 'was_live': False}\n",
      "Jacob Lerma said I got my tickets IMMEDIATELY and I’ve never been to Springfest before (as a senior)\n",
      "\n",
      "\n",
      "\n"
     ]
    },
    {
     "data": {
      "application/vnd.jupyter.widget-view+json": {
       "model_id": "53e538d93bae4741b0699c4f232cb7b3",
       "version_major": 2,
       "version_minor": 0
      },
      "text/plain": [
       "  0%|          | 0/1000000000.0 [00:00<?, ?it/s]"
      ]
     },
     "metadata": {},
     "output_type": "display_data"
    },
    {
     "name": "stdout",
     "output_type": "stream",
     "text": [
      "{'post_id': '604328511724546', 'text': '#67925 To whoever left duct tape weapons inside one of the eecs conference rooms, plz send the blueprints for how to make them.', 'post_text': '#67925 To whoever left duct tape weapons inside one of the eecs conference rooms, plz send the blueprints for how to make them.', 'shared_text': '', 'original_text': None, 'time': datetime.datetime(2023, 4, 22, 14, 42, 56), 'timestamp': 1682188976, 'image': None, 'image_lowquality': 'https://scontent-lga3-1.xx.fbcdn.net/m1/v/t6/An_F9bJG7govfshSMBkvcRLcxT0jmiXVYKtr7lgH5AHgUrjjpZ1OD0xyxXYgf7arc0lWgCdrR_KN4Mg7RSN3Gm3W6Gg03N1tQ-ZXzVvFJ_KvvB4.png?ccb=10-5&oh=00_AfDsewcK5aajHB4OvBXr4sugMFubcpo5Dgz-sxlqS4R4Yw&oe=646CF0A7&_nc_sid=55e238', 'images': [], 'images_description': [], 'images_lowquality': ['https://scontent-lga3-1.xx.fbcdn.net/m1/v/t6/An_F9bJG7govfshSMBkvcRLcxT0jmiXVYKtr7lgH5AHgUrjjpZ1OD0xyxXYgf7arc0lWgCdrR_KN4Mg7RSN3Gm3W6Gg03N1tQ-ZXzVvFJ_KvvB4.png?ccb=10-5&oh=00_AfDsewcK5aajHB4OvBXr4sugMFubcpo5Dgz-sxlqS4R4Yw&oe=646CF0A7&_nc_sid=55e238', 'https://scontent-lga3-1.xx.fbcdn.net/m1/v/t6/An_UvxJXg9tdnLU3Y5qjPi0200MLilhzPXUgxzGjQzUMaNcmjdZA6anyrngvkdub33NZzZhd51fpCAEzNHFhko5aKRFP5fS1w_lKwYrzcNLupv27.png?ccb=10-5&oh=00_AfDZVXSaQGAXa1Ag4sAHA0pBf8KP54cvxxpN1yPCvpoSKQ&oe=646CE5F9&_nc_sid=55e238'], 'images_lowquality_description': ['Haha', 'Like'], 'video': None, 'video_duration_seconds': None, 'video_height': None, 'video_id': None, 'video_quality': None, 'video_size_MB': None, 'video_thumbnail': None, 'video_watches': None, 'video_width': None, 'likes': 8, 'comments': 1, 'shares': 0, 'post_url': 'https://facebook.com/beaverconfessions/posts/604328511724546', 'link': None, 'links': [{'link': '/story.php?story_fbid=pfbid02p21GJuCdFt1nN9AN7PjAPorw4cB9RBSbsxjhHDnCZFNyhxKFLNeZx9mGMn1QFFfhl&id=100064422082976&eav=AfZpsFV1euJ0qfU2D3t-luNQWOji9f5Kp3D1Y772POL2KUc6bFpWx7iklB_JeXe6LBI&m_entstream_source=timeline&refid=17&_ft_=encrypted_tracking_data.0AY9EOY8yjxVL-dJVVW-FScKFZhRvxtRMIBWkplZPDYGNgbbB5sQ65j_2QqIAkb8mI6ejGG4RvqUuIy68ZyPb2UnyFkEH5G6RJNAdMIe0UkncLz4q8ZhASJrPa5G6-mknw36q6u0Di_MYhS12zQiHTTNhScMtgVRAVvGowQM7qJ31-KbFJ2PFmEwycLr0lyG3ZnHQznFV6xNAbPLrN7t95PSkLXIf4kgf_1Ab4rqEqSqIh8ncEOPyh8m_QcORC00Gf5MAhAdjc4o3V-BAxZ5msBWxApe-Z_62sJpCLKZx4L0_UJL9XwhOeA8IRj8WwH_FyRCxH92bMiH0RTJWUeCjWhagSpydGMuwM4SzbOMIx_wzd-SPUFjnnEnU-XH5U1CRZbmNRLSA4JSoYEXCAIgoh049nCctSRIADww56aywpnVNfEzJ5hSHHQ1nsy1sCwv8O-j9nxZOG2ndPeUn0MoOcYFST6ccTcrsEP0xxhHLR34982cB_TYm5wJ0I4YDelNkmi05TI87CinrpaSqv8ypBMhuxYaOFGAGGaBRV1gk0_-Tv5Lap47pcQkFDyhLjJQYKRzpWcliK9wwla7xrdjqLx7Z3nYLry9ROEWexMCXR_Jsa8exjkdxHYSWvehtoX49acxTbXeKSxE7ZKjNUXWkBVAUxvjoYVpAVkxzl87a_OuAsVsrEWx7nmzgDBZBug7n6S-jQ5w_SZXye7K506GussEOJhM_VLJcWFVL6NIRAHCFdPw89USe5ksn-fEJuGHDpn9TB2WDE-T0KXFWAeA20sq5QGyIohsE15Q-3kZo7AZHDeYUKCqOAyNbmAhyJ6VHPJ1nEVBGDJM1oeTUvtTTgmDYICtXYF3kPSBurmTuc8wVO5PWv2JAvCmiOyBhkRSyj7pxcnSyod07h1jaDgzTADCUXlg13TpPSlJAGdNbjh4YzDy9alHHyJJ9HRvT6ZUJZ2z6_pRCES3hJyFltQJATIxztdTHbTh7d_HqXZIqKVCOXuPH52c1X4oS0rI9OxohHQT0d0NL3YuRCd2v_XcQluaZ3INq8cdxEpRk1bdZyygsspYMTfam1SZ4FeYzQ8xqDE6IDB_vNYQripBOZUb5E4oVSraHu9Rqm3kkecr2WrzdexdrV1VSi2KAa60g1Ydtg81aS6Dxn-zRMnzYWf9IQlmQYMe-aLGHfP-EkwTb2VhsSSet6mdMvjUKmfebJBZUwDiGvWeZsqIfWHVTCOGAmzCRwT-ODUDMsTKmRAVCKzxMCdaheu2fOdXPPeXj8pi7ieuEjZXOl2N0AKsX5hWdYo3QgD3MFfUPEIbDRT7ot3Y11jGrNZA3cH3ybM45wwIe86u6&__tn__=%2As%2As-R&paipv=0', 'text': ''}], 'user_id': '100064422082976', 'username': 'MIT Confessions', 'user_url': 'https://facebook.com/beaverconfessions?lst=100001717647780%3A100064422082976%3A1682279893&eav=AfYPe_242MmQxD25v0CDkIoCMLKK0jvKnCRu8KhDP-LiYi27awwfR2sqtknn3SvRbJI&refid=17&_ft_=encrypted_tracking_data.0AY9EOY8yjxVL-dJVVW-FScKFZhRvxtRMIBWkplZPDYGNgbbB5sQ65j_2QqIAkb8mI6ejGG4RvqUuIy68ZyPb2UnyFkEH5G6RJNAdMIe0UkncLz4q8ZhASJrPa5G6-mknw36q6u0Di_MYhS12zQiHTTNhScMtgVRAVvGowQM7qJ31-KbFJ2PFmEwycLr0lyG3ZnHQznFV6xNAbPLrN7t95PSkLXIf4kgf_1Ab4rqEqSqIh8ncEOPyh8m_QcORC00Gf5MAhAdjc4o3V-BAxZ5msBWxApe-Z_62sJpCLKZx4L0_UJL9XwhOeA8IRj8WwH_FyRCxH92bMiH0RTJWUeCjWhagSpydGMuwM4SzbOMIx_wzd-SPUFjnnEnU-XH5U1CRZbmNRLSA4JSoYEXCAIgoh049nCctSRIADww56aywpnVNfEzJ5hSHHQ1nsy1sCwv8O-j9nxZOG2ndPeUn0MoOcYFST6ccTcrsEP0xxhHLR34982cB_TYm5wJ0I4YDelNkmi05TI87CinrpaSqv8ypBMhuxYaOFGAGGaBRV1gk0_-Tv5Lap47pcQkFDyhLjJQYKRzpWcliK9wwla7xrdjqLx7Z3nYLry9ROEWexMCXR_Jsa8exjkdxHYSWvehtoX49acxTbXeKSxE7ZKjNUXWkBVAUxvjoYVpAVkxzl87a_OuAsVsrEWx7nmzgDBZBug7n6S-jQ5w_SZXye7K506GussEOJhM_VLJcWFVL6NIRAHCFdPw89USe5ksn-fEJuGHDpn9TB2WDE-T0KXFWAeA20sq5QGyIohsE15Q-3kZo7AZHDeYUKCqOAyNbmAhyJ6VHPJ1nEVBGDJM1oeTUvtTTgmDYICtXYF3kPSBurmTuc8wVO5PWv2JAvCmiOyBhkRSyj7pxcnSyod07h1jaDgzTADCUXlg13TpPSlJAGdNbjh4YzDy9alHHyJJ9HRvT6ZUJZ2z6_pRCES3hJyFltQJATIxztdTHbTh7d_HqXZIqKVCOXuPH52c1X4oS0rI9OxohHQT0d0NL3YuRCd2v_XcQluaZ3INq8cdxEpRk1bdZyygsspYMTfam1SZ4FeYzQ8xqDE6IDB_vNYQripBOZUb5E4oVSraHu9Rqm3kkecr2WrzdexdrV1VSi2KAa60g1Ydtg81aS6Dxn-zRMnzYWf9IQlmQYMe-aLGHfP-EkwTb2VhsSSet6mdMvjUKmfebJBZUwDiGvWeZsqIfWHVTCOGAmzCRwT-ODUDMsTKmRAVCKzxMCdaheu2fOdXPPeXj8pi7ieuEjZXOl2N0AKsX5hWdYo3QgD3MFfUPEIbDRT7ot3Y11jGrNZA3cH3ybM45wwIe86u6&__tn__=C-R&paipv=0', 'is_live': False, 'factcheck': None, 'shared_post_id': None, 'shared_time': None, 'shared_user_id': None, 'shared_username': None, 'shared_post_url': None, 'available': True, 'comments_full': [{'comment_id': '1712858009136562', 'comment_url': 'https://facebook.com/1712858009136562', 'commenter_id': '100009725948120', 'commenter_url': 'https://facebook.com/profile.php?id=100009725948120&eav=AfYvbhmKN8fO-28wfQVDsabTaWDWkTDVkOzG4LpxFjGszbojJwxajjI8LGw-N5d-2Ho&fref=nf&rc=p&refid=52&__tn__=R&paipv=0', 'commenter_name': 'Nishant Abhangi', 'commenter_meta': None, 'comment_text': 'Nishant Dhankhar', 'comment_time': datetime.datetime(2023, 4, 22, 1, 0), 'comment_image': None, 'comment_reactors': [], 'comment_reactions': None, 'comment_reaction_count': None, 'replies': []}], 'reactors': None, 'w3_fb_url': None, 'reactions': None, 'reaction_count': 8, 'with': None, 'page_id': '462508190484900', 'sharers': None, 'image_id': None, 'image_ids': [], 'was_live': False}\n",
      "Nishant Abhangi said Nishant Dhankhar\n",
      "\n",
      "\n",
      "\n",
      "{'post_id': '604328451724552', 'text': '#67924 Ok so the couple next to me keeps on having sex at inconvenient times (rip my interview💀) so can we vote and decide on a standardized MIT time to have sex? React for the following time if you would be not in your room or wouldn’t be bothered by your neighbors\\nLike for 8pm-12am\\nLaugh for 12am-4am\\nWow for 4am-8am\\nSad for 8am-12pm\\nAngry for 12pm-4pm\\nHeart for 4pm-8pm', 'post_text': '#67924 Ok so the couple next to me keeps on having sex at inconvenient times (rip my interview💀) so can we vote and decide on a standardized MIT time to have sex? React for the following time if you would be not in your room or wouldn’t be bothered by your neighbors\\nLike for 8pm-12am\\nLaugh for 12am-4am\\nWow for 4am-8am\\nSad for 8am-12pm\\nAngry for 12pm-4pm\\nHeart for 4pm-8pm', 'shared_text': '', 'original_text': None, 'time': datetime.datetime(2023, 4, 22, 14, 42, 48), 'timestamp': 1682188968, 'image': None, 'image_lowquality': 'https://scontent-lga3-1.xx.fbcdn.net/m1/v/t6/An_F9bJG7govfshSMBkvcRLcxT0jmiXVYKtr7lgH5AHgUrjjpZ1OD0xyxXYgf7arc0lWgCdrR_KN4Mg7RSN3Gm3W6Gg03N1tQ-ZXzVvFJ_KvvB4.png?ccb=10-5&oh=00_AfDsewcK5aajHB4OvBXr4sugMFubcpo5Dgz-sxlqS4R4Yw&oe=646CF0A7&_nc_sid=55e238', 'images': [], 'images_description': [], 'images_lowquality': ['https://scontent-lga3-1.xx.fbcdn.net/m1/v/t6/An_F9bJG7govfshSMBkvcRLcxT0jmiXVYKtr7lgH5AHgUrjjpZ1OD0xyxXYgf7arc0lWgCdrR_KN4Mg7RSN3Gm3W6Gg03N1tQ-ZXzVvFJ_KvvB4.png?ccb=10-5&oh=00_AfDsewcK5aajHB4OvBXr4sugMFubcpo5Dgz-sxlqS4R4Yw&oe=646CF0A7&_nc_sid=55e238', 'https://scontent-lga3-1.xx.fbcdn.net/m1/v/t6/An_UvxJXg9tdnLU3Y5qjPi0200MLilhzPXUgxzGjQzUMaNcmjdZA6anyrngvkdub33NZzZhd51fpCAEzNHFhko5aKRFP5fS1w_lKwYrzcNLupv27.png?ccb=10-5&oh=00_AfDZVXSaQGAXa1Ag4sAHA0pBf8KP54cvxxpN1yPCvpoSKQ&oe=646CE5F9&_nc_sid=55e238', 'https://scontent-lga3-1.xx.fbcdn.net/m1/v/t6/An-SJYN61eefFdoaV8pa0G_5_APCa0prZaqkZGXpCFeUCLCg89UPOqSkSZxJkLy0hAKKpUIPEB91mo9yBBfcAqcwmpEu5jN_jmJufFtJoVJCUklu.png?ccb=10-5&oh=00_AfAI9KO3sE3BY3YRLTZHUDOYVy2QJbHnsOt436P9_lBJVw&oe=646CEADF&_nc_sid=55e238'], 'images_lowquality_description': ['Haha', 'Like', 'Love'], 'video': None, 'video_duration_seconds': None, 'video_height': None, 'video_id': None, 'video_quality': None, 'video_size_MB': None, 'video_thumbnail': None, 'video_watches': None, 'video_width': None, 'likes': 13, 'comments': 0, 'shares': 0, 'post_url': 'https://facebook.com/beaverconfessions/posts/604328451724552', 'link': None, 'links': [{'link': '/story.php?story_fbid=pfbid024QUqni2iMtoP9ijqiQNuBKd8FBqKXRzSjeEA55rWrQ4dn8A1xrUFK1pVKGcQd7mkl&id=100064422082976&eav=AfZbOflNrKYvVNSjJiyh_XTC2BVWaJ-YssTpEBPa9iyow6P7nN8wHxPwHt-DWzQ4AIU&m_entstream_source=timeline&refid=17&_ft_=encrypted_tracking_data.0AY8RFQNdKSeaYK0I3qA_xxQ1mXb1gx0qVhRfQbJcZ86Ih0YJmN-JqeiLmGTcxnOsBdmoek4bQtyIwhgYakzpVlujzrY-aDD0Eu5kkCTCKMU8AbR8vpJr1nPGeXvDHuXFDbAZu6JS9WzPtHi8QGf3BeC2pKb-RfNgXqEj0vfb4rRtLqVKobeX8ql6g_f82A52bRf2SRXZ__TnOlwwJsvXQzlRWuiIqe2Ptu49uG49V-to4ZPHtGc6zWOGkmaUEguFtJjnGJ3bgoGPeI-CRzSez3_qxgW4vU06pgC4rOKqFtO6E-qe2pdhW4pRwQ67Lxi1YoYy8nsJ-sBDatNqLHYqBJV9rF0IZClMeve9vVdLW40J0jb9RHx1A180_262eGkH5rdD5vCQeVQXIVLDpffb6WdD3S5odW6S6NrfHmTyGSwOohMg-QlmCg3EFPglkUoRT-aiywEgLo3f-_OEfo_UGPxtLOnSBWjMoMHsGXEzkUoa1Dqwn_xkdQAXTUTSj_oKQ15xePE9iUTonclirilvC7RetpH1lRADyFGHaA_NYdCFIulVhRnRFRMoFThrgfSvdkpQrn2bBC4ShcqMNrI1u_2Eqlm5E5-La940Sj7VDxDEvbrhDbcmevHMQhHNn27uZKCu709Pab-Mt6ejYFerQxhliRmWluX1GK5sVhfbwgLOvkPwzcVbOC3HZjEf46KQAr_E6O1PXJtKBvt7dE5SiMXdvCv0yzTQOoznqnva85wlNXp2DJjQYHbTD-zrWZunPbIdH3JiHbVWBSKNNxIxBIAhxa9p5_i-V5BSt3f8UzAEHu1i9OCDs5nTq0Lwe9x0pdBmN8BJFE-oCdMtNpQlEuj30kbWAsS-PS1AL-sCsMxTOzeGX8k6MrbzQZVQyU6dIG4gacv95kse263YADJXWF2_zsiTUtEMHW3rEY0EsmDqOrr3UvDMeDeoVADL_LBo31GNwLcyDQTB7l7pfE5ach0UnwHr3yKTGNejaXQiN5PIBw0yvO5km2UOSZvVQsXt-TRHA6gV3auNtr5llaUrSbpodHkcEx47YUbPyWPBP0SoEcOxdvHwfuzlvUMMkdH4eh4ymm0UyFmyX6NWz70B9XwCQzJ0wXt8An6te_-ZQcrtX_jCPy38VfZQpvnUzdikXVR4pGFKCxRZZytSkUcJczZKv3Z1qy1cisH0tkJ58bEYC8KX6UIrMkCSPLmZUENMrcHaoIDkHCAKMFvykJdub2IdUm8nKCbA_IiRHqh7wZud3YnDs9lia7qKRBIQZi0TjULhq7z363zwIKqJiwSgFBwjoC580Yrg-P8J65sTcmOxqcKb55FqwdihPfbCTa-vCuY&__tn__=%2As%2As-R&paipv=0', 'text': ''}], 'user_id': '100064422082976', 'username': 'MIT Confessions', 'user_url': 'https://facebook.com/beaverconfessions?lst=100001717647780%3A100064422082976%3A1682279893&eav=AfYPe_242MmQxD25v0CDkIoCMLKK0jvKnCRu8KhDP-LiYi27awwfR2sqtknn3SvRbJI&refid=17&_ft_=encrypted_tracking_data.0AY8RFQNdKSeaYK0I3qA_xxQ1mXb1gx0qVhRfQbJcZ86Ih0YJmN-JqeiLmGTcxnOsBdmoek4bQtyIwhgYakzpVlujzrY-aDD0Eu5kkCTCKMU8AbR8vpJr1nPGeXvDHuXFDbAZu6JS9WzPtHi8QGf3BeC2pKb-RfNgXqEj0vfb4rRtLqVKobeX8ql6g_f82A52bRf2SRXZ__TnOlwwJsvXQzlRWuiIqe2Ptu49uG49V-to4ZPHtGc6zWOGkmaUEguFtJjnGJ3bgoGPeI-CRzSez3_qxgW4vU06pgC4rOKqFtO6E-qe2pdhW4pRwQ67Lxi1YoYy8nsJ-sBDatNqLHYqBJV9rF0IZClMeve9vVdLW40J0jb9RHx1A180_262eGkH5rdD5vCQeVQXIVLDpffb6WdD3S5odW6S6NrfHmTyGSwOohMg-QlmCg3EFPglkUoRT-aiywEgLo3f-_OEfo_UGPxtLOnSBWjMoMHsGXEzkUoa1Dqwn_xkdQAXTUTSj_oKQ15xePE9iUTonclirilvC7RetpH1lRADyFGHaA_NYdCFIulVhRnRFRMoFThrgfSvdkpQrn2bBC4ShcqMNrI1u_2Eqlm5E5-La940Sj7VDxDEvbrhDbcmevHMQhHNn27uZKCu709Pab-Mt6ejYFerQxhliRmWluX1GK5sVhfbwgLOvkPwzcVbOC3HZjEf46KQAr_E6O1PXJtKBvt7dE5SiMXdvCv0yzTQOoznqnva85wlNXp2DJjQYHbTD-zrWZunPbIdH3JiHbVWBSKNNxIxBIAhxa9p5_i-V5BSt3f8UzAEHu1i9OCDs5nTq0Lwe9x0pdBmN8BJFE-oCdMtNpQlEuj30kbWAsS-PS1AL-sCsMxTOzeGX8k6MrbzQZVQyU6dIG4gacv95kse263YADJXWF2_zsiTUtEMHW3rEY0EsmDqOrr3UvDMeDeoVADL_LBo31GNwLcyDQTB7l7pfE5ach0UnwHr3yKTGNejaXQiN5PIBw0yvO5km2UOSZvVQsXt-TRHA6gV3auNtr5llaUrSbpodHkcEx47YUbPyWPBP0SoEcOxdvHwfuzlvUMMkdH4eh4ymm0UyFmyX6NWz70B9XwCQzJ0wXt8An6te_-ZQcrtX_jCPy38VfZQpvnUzdikXVR4pGFKCxRZZytSkUcJczZKv3Z1qy1cisH0tkJ58bEYC8KX6UIrMkCSPLmZUENMrcHaoIDkHCAKMFvykJdub2IdUm8nKCbA_IiRHqh7wZud3YnDs9lia7qKRBIQZi0TjULhq7z363zwIKqJiwSgFBwjoC580Yrg-P8J65sTcmOxqcKb55FqwdihPfbCTa-vCuY&__tn__=C-R&paipv=0', 'is_live': False, 'factcheck': None, 'shared_post_id': None, 'shared_time': None, 'shared_user_id': None, 'shared_username': None, 'shared_post_url': None, 'available': True, 'comments_full': [], 'reactors': None, 'w3_fb_url': None, 'reactions': None, 'reaction_count': 13, 'with': None, 'page_id': '462508190484900', 'sharers': None, 'image_id': None, 'image_ids': [], 'was_live': False}\n",
      "\n",
      "\n",
      "\n"
     ]
    },
    {
     "data": {
      "application/vnd.jupyter.widget-view+json": {
       "model_id": "2bd9f6cf29b2462da6315565dd136bfd",
       "version_major": 2,
       "version_minor": 0
      },
      "text/plain": [
       "  0%|          | 0/1000000000.0 [00:00<?, ?it/s]"
      ]
     },
     "metadata": {},
     "output_type": "display_data"
    },
    {
     "name": "stdout",
     "output_type": "stream",
     "text": [
      "{'post_id': '604328385057892', 'text': '#67923 Gil Strang re-enters 26-100 after a fire alarm to thunderous applause. We Stan Gil Strang!!', 'post_text': '#67923 Gil Strang re-enters 26-100 after a fire alarm to thunderous applause. We Stan Gil Strang!!', 'shared_text': '', 'original_text': None, 'time': datetime.datetime(2023, 4, 22, 14, 42, 38), 'timestamp': 1682188958, 'image': None, 'image_lowquality': 'https://scontent-lga3-1.xx.fbcdn.net/m1/v/t6/An-SJYN61eefFdoaV8pa0G_5_APCa0prZaqkZGXpCFeUCLCg89UPOqSkSZxJkLy0hAKKpUIPEB91mo9yBBfcAqcwmpEu5jN_jmJufFtJoVJCUklu.png?ccb=10-5&oh=00_AfAI9KO3sE3BY3YRLTZHUDOYVy2QJbHnsOt436P9_lBJVw&oe=646CEADF&_nc_sid=55e238', 'images': [], 'images_description': [], 'images_lowquality': ['https://scontent-lga3-1.xx.fbcdn.net/m1/v/t6/An-SJYN61eefFdoaV8pa0G_5_APCa0prZaqkZGXpCFeUCLCg89UPOqSkSZxJkLy0hAKKpUIPEB91mo9yBBfcAqcwmpEu5jN_jmJufFtJoVJCUklu.png?ccb=10-5&oh=00_AfAI9KO3sE3BY3YRLTZHUDOYVy2QJbHnsOt436P9_lBJVw&oe=646CEADF&_nc_sid=55e238', 'https://scontent-lga3-1.xx.fbcdn.net/m1/v/t6/An_UvxJXg9tdnLU3Y5qjPi0200MLilhzPXUgxzGjQzUMaNcmjdZA6anyrngvkdub33NZzZhd51fpCAEzNHFhko5aKRFP5fS1w_lKwYrzcNLupv27.png?ccb=10-5&oh=00_AfDZVXSaQGAXa1Ag4sAHA0pBf8KP54cvxxpN1yPCvpoSKQ&oe=646CE5F9&_nc_sid=55e238', 'https://scontent-lga3-1.xx.fbcdn.net/m1/v/t6/An_F9bJG7govfshSMBkvcRLcxT0jmiXVYKtr7lgH5AHgUrjjpZ1OD0xyxXYgf7arc0lWgCdrR_KN4Mg7RSN3Gm3W6Gg03N1tQ-ZXzVvFJ_KvvB4.png?ccb=10-5&oh=00_AfDsewcK5aajHB4OvBXr4sugMFubcpo5Dgz-sxlqS4R4Yw&oe=646CF0A7&_nc_sid=55e238'], 'images_lowquality_description': ['Love', 'Like', 'Haha'], 'video': None, 'video_duration_seconds': None, 'video_height': None, 'video_id': None, 'video_quality': None, 'video_size_MB': None, 'video_thumbnail': None, 'video_watches': None, 'video_width': None, 'likes': 37, 'comments': 2, 'shares': 0, 'post_url': 'https://facebook.com/beaverconfessions/posts/604328385057892', 'link': None, 'links': [{'link': '/story.php?story_fbid=pfbid033VBhWapXtJDU9xKgcFEMxiEQPYU3TRGutZEJK3BYJDbxsnmLe5ejFpP8kYXMBtfMl&id=100064422082976&eav=AfYiIS6AZZEDFoGrFd14b3NVcB2xKh81kLZVa8VvqqP5dj4dqpIpikyuFs6AkGwznZI&m_entstream_source=timeline&refid=17&_ft_=encrypted_tracking_data.0AY-luX3P4nnedoRjoB1sUFPjLvIajIbwNi8-5iU0nxHLj8idXHYuWea_ffzccYmt9ohJmtBtU4oqOWZzAdShgSfnEFWoM68x394knSDJzpjKXkNrKstqMmudXMh8vsAZTw-eqLZwM2Oz6B6QHvE4AcQEN3hmSnJqqHXcpVtaxIbJi54wAf7NgFNk5PNHfNlyW1WhnCijtHQLlS3ZHOEJPpuCefUF583u7X8KydztKYetDc-ih12Yrv3leqHZKLGUtNfZHdTaxGDKGy76nclPnsS8UALiA7AKSwDzrO_1DZ3WKWDGzlay1KuyZfIxQVxn6JqKlpdcCPY1uMYmFcceOkkr9UZNzlPqZx_9sOtlOwLNLo95366A5mXvXcw3WoxWoBvoazlzRHnTXF0dp3Y64x9X-ddDTSjWFhXv_NxxaBvOYdOA5f73waxpddchUGykBdh_D5QF2MWdh82xJchkXdjtu3E8fQdJ7ioWfaV1k5sDcQ7k3Rth0s9GBDLK3igOaEy1Ktoab2zquVQrbwjFRPLUXlEobGPV3JqrthRJfVNrwAS9g65Q0pZKbkhXwtYZvkdYalioifhoaaDIwyuJihhK1ZCcoMtL3qIeVDgTXezchJ5_jIcyYYj7M6TJjEUNZ-S3PnD2dlsLZRO3BOaaEjO5WJygpjz3i93-3CNYeULpP0qANmm7F1P4yQF3xPqj1do1Ms0NNhTsNtkzfL9AXGMh5RzkS4p3oo5yEufZpD0Woq87c2hN8nEkI4qrOPlRoTGIJINl-OqnMC7IvnW4xGcMqSxEBttNoRWsQOVh47q3reJIoYr_52OAwaFBjaRpIvSORtQeMBms3muULf9Jp-PqLnRH1r3tGfUIAyyWBksNTb1K7D2Zcb4MKHaHIIBplJ0t-uV_IrXmRjUeVT41fGKid9xAA-j-3Rm1k02kPXEl4fwqXGSNQouRDFTFTbxzlwp_dFJkfB3fIaeK5q0zsVYYazbdvSgaZuJTkvbnZ_pmIzk1yyM5OVDbPBUp9M3uSQu3hRFW9BQJPtnB-ofdNQfuaheCLJTjoJwehyWNwFiEl6oJz1Tjwjt9WG1_dByHgeb9HUxZ0HMMmtAHCoa1q2_5cB2oP5OvAArvf4Zpm26kX8dJYSuOoEQw8lXELsw6jUYCz7pmtA4RmJcazYrmQucKP4P3TNmMIOMPNgeWsEnkqtxRy_FAkE0jFNm-povXGVSESINVUpbRt_ZS9POaEQ3HZ3QmSf97uQm8lhJhBHXaib9tigluhgAKsk3lFXmEJaDy7kQ3j97QaEaceU9O-G81ztVeBxpcW-hVdSyWQMWQxOeQRLmFU4Z0qVHPdFX6fmt6&__tn__=%2As%2As-R&paipv=0', 'text': ''}], 'user_id': '100064422082976', 'username': 'MIT Confessions', 'user_url': 'https://facebook.com/beaverconfessions?lst=100001717647780%3A100064422082976%3A1682279893&eav=AfYPe_242MmQxD25v0CDkIoCMLKK0jvKnCRu8KhDP-LiYi27awwfR2sqtknn3SvRbJI&refid=17&_ft_=encrypted_tracking_data.0AY-luX3P4nnedoRjoB1sUFPjLvIajIbwNi8-5iU0nxHLj8idXHYuWea_ffzccYmt9ohJmtBtU4oqOWZzAdShgSfnEFWoM68x394knSDJzpjKXkNrKstqMmudXMh8vsAZTw-eqLZwM2Oz6B6QHvE4AcQEN3hmSnJqqHXcpVtaxIbJi54wAf7NgFNk5PNHfNlyW1WhnCijtHQLlS3ZHOEJPpuCefUF583u7X8KydztKYetDc-ih12Yrv3leqHZKLGUtNfZHdTaxGDKGy76nclPnsS8UALiA7AKSwDzrO_1DZ3WKWDGzlay1KuyZfIxQVxn6JqKlpdcCPY1uMYmFcceOkkr9UZNzlPqZx_9sOtlOwLNLo95366A5mXvXcw3WoxWoBvoazlzRHnTXF0dp3Y64x9X-ddDTSjWFhXv_NxxaBvOYdOA5f73waxpddchUGykBdh_D5QF2MWdh82xJchkXdjtu3E8fQdJ7ioWfaV1k5sDcQ7k3Rth0s9GBDLK3igOaEy1Ktoab2zquVQrbwjFRPLUXlEobGPV3JqrthRJfVNrwAS9g65Q0pZKbkhXwtYZvkdYalioifhoaaDIwyuJihhK1ZCcoMtL3qIeVDgTXezchJ5_jIcyYYj7M6TJjEUNZ-S3PnD2dlsLZRO3BOaaEjO5WJygpjz3i93-3CNYeULpP0qANmm7F1P4yQF3xPqj1do1Ms0NNhTsNtkzfL9AXGMh5RzkS4p3oo5yEufZpD0Woq87c2hN8nEkI4qrOPlRoTGIJINl-OqnMC7IvnW4xGcMqSxEBttNoRWsQOVh47q3reJIoYr_52OAwaFBjaRpIvSORtQeMBms3muULf9Jp-PqLnRH1r3tGfUIAyyWBksNTb1K7D2Zcb4MKHaHIIBplJ0t-uV_IrXmRjUeVT41fGKid9xAA-j-3Rm1k02kPXEl4fwqXGSNQouRDFTFTbxzlwp_dFJkfB3fIaeK5q0zsVYYazbdvSgaZuJTkvbnZ_pmIzk1yyM5OVDbPBUp9M3uSQu3hRFW9BQJPtnB-ofdNQfuaheCLJTjoJwehyWNwFiEl6oJz1Tjwjt9WG1_dByHgeb9HUxZ0HMMmtAHCoa1q2_5cB2oP5OvAArvf4Zpm26kX8dJYSuOoEQw8lXELsw6jUYCz7pmtA4RmJcazYrmQucKP4P3TNmMIOMPNgeWsEnkqtxRy_FAkE0jFNm-povXGVSESINVUpbRt_ZS9POaEQ3HZ3QmSf97uQm8lhJhBHXaib9tigluhgAKsk3lFXmEJaDy7kQ3j97QaEaceU9O-G81ztVeBxpcW-hVdSyWQMWQxOeQRLmFU4Z0qVHPdFX6fmt6&__tn__=C-R&paipv=0', 'is_live': False, 'factcheck': None, 'shared_post_id': None, 'shared_time': None, 'shared_user_id': None, 'shared_username': None, 'shared_post_url': None, 'available': True, 'comments_full': [{'comment_id': '158572807161750', 'comment_url': 'https://facebook.com/158572807161750', 'commenter_id': '100085113573432', 'commenter_url': 'https://facebook.com/profile.php?id=100085113573432&eav=AfYLO5lodDUbqnj-BdFqPVoMrWMwOzQX0Tmb-whDPrtlQTblz3fyCWnA9Fm5ixmLGXk&fref=nf&rc=p&refid=52&__tn__=R&paipv=0', 'commenter_name': 'Ian Gonzalez Hermosillo', 'commenter_meta': 'Top fan', 'comment_text': 'No fire alarm is going to stop our learning of 18.06 😤', 'comment_time': datetime.datetime(2023, 4, 22, 2, 0), 'comment_image': 'https://scontent-lga3-1.xx.fbcdn.net/m1/v/t6/An-SJYN61eefFdoaV8pa0G_5_APCa0prZaqkZGXpCFeUCLCg89UPOqSkSZxJkLy0hAKKpUIPEB91mo9yBBfcAqcwmpEu5jN_jmJufFtJoVJCUklu.png?ccb=10-5&oh=00_AfAI9KO3sE3BY3YRLTZHUDOYVy2QJbHnsOt436P9_lBJVw&oe=646CEADF&_nc_sid=55e238', 'comment_reactors': [], 'comment_reactions': None, 'comment_reaction_count': None, 'replies': [{'comment_id': '610339714053562', 'comment_url': 'https://facebook.com/610339714053562', 'commenter_id': '100005913637773', 'commenter_url': 'https://facebook.com/ptc2022?eav=AfbUPGZq3EITTR3VXtD-6bh3SAx8x79AoBwrlkHhTseejf8XEDT1QD5Z9lWF5YNCgFY&fref=nf&rc=p&__tn__=R&paipv=0', 'commenter_name': 'Peter Chen', 'commenter_meta': 'Top fan', 'comment_text': 'Ian Gonzalez Hermosillo no cliffhangers allowed in 18.06', 'comment_time': datetime.datetime(2023, 4, 22, 3, 0), 'comment_image': None, 'comment_reactors': [], 'comment_reactions': None, 'comment_reaction_count': None}]}], 'reactors': None, 'w3_fb_url': None, 'reactions': None, 'reaction_count': 37, 'with': None, 'page_id': '462508190484900', 'sharers': None, 'image_id': None, 'image_ids': [], 'was_live': False}\n",
      "Ian Gonzalez Hermosillo said No fire alarm is going to stop our learning of 18.06 😤\n",
      "\n",
      "\n",
      "\n",
      "{'post_id': '604328338391230', 'text': \"#67922 SEB, why aren't u mentioning yucky blucky fruitcake by doechii on the email, hmmmmm?? is she NOT PERFORMING YUCKY BLUCKY FRUITCAKE????? SPEAK UP, SPEAK up, SPEAK UP\", 'post_text': \"#67922 SEB, why aren't u mentioning yucky blucky fruitcake by doechii on the email, hmmmmm?? is she NOT PERFORMING YUCKY BLUCKY FRUITCAKE????? SPEAK UP, SPEAK up, SPEAK UP\", 'shared_text': '', 'original_text': None, 'time': datetime.datetime(2023, 4, 22, 14, 42, 31), 'timestamp': 1682188951, 'image': None, 'image_lowquality': 'https://scontent-lga3-1.xx.fbcdn.net/m1/v/t6/An_F9bJG7govfshSMBkvcRLcxT0jmiXVYKtr7lgH5AHgUrjjpZ1OD0xyxXYgf7arc0lWgCdrR_KN4Mg7RSN3Gm3W6Gg03N1tQ-ZXzVvFJ_KvvB4.png?ccb=10-5&oh=00_AfDsewcK5aajHB4OvBXr4sugMFubcpo5Dgz-sxlqS4R4Yw&oe=646CF0A7&_nc_sid=55e238', 'images': [], 'images_description': [], 'images_lowquality': ['https://scontent-lga3-1.xx.fbcdn.net/m1/v/t6/An_F9bJG7govfshSMBkvcRLcxT0jmiXVYKtr7lgH5AHgUrjjpZ1OD0xyxXYgf7arc0lWgCdrR_KN4Mg7RSN3Gm3W6Gg03N1tQ-ZXzVvFJ_KvvB4.png?ccb=10-5&oh=00_AfDsewcK5aajHB4OvBXr4sugMFubcpo5Dgz-sxlqS4R4Yw&oe=646CF0A7&_nc_sid=55e238', 'https://scontent-lga3-1.xx.fbcdn.net/m1/v/t6/An_UvxJXg9tdnLU3Y5qjPi0200MLilhzPXUgxzGjQzUMaNcmjdZA6anyrngvkdub33NZzZhd51fpCAEzNHFhko5aKRFP5fS1w_lKwYrzcNLupv27.png?ccb=10-5&oh=00_AfDZVXSaQGAXa1Ag4sAHA0pBf8KP54cvxxpN1yPCvpoSKQ&oe=646CE5F9&_nc_sid=55e238'], 'images_lowquality_description': ['Haha', 'Like'], 'video': None, 'video_duration_seconds': None, 'video_height': None, 'video_id': None, 'video_quality': None, 'video_size_MB': None, 'video_thumbnail': None, 'video_watches': None, 'video_width': None, 'likes': 5, 'comments': 0, 'shares': 0, 'post_url': 'https://facebook.com/beaverconfessions/posts/604328338391230', 'link': None, 'links': [{'link': '/story.php?story_fbid=pfbid02frFZhjAHzWgj93zpB5ZbgKR2YQTwBN1h1eXW74X7nMD5CgGbSY65rgws7kQW2qnxl&id=100064422082976&eav=AfZMg7X0457pNm0X9aZ5MQAetfvg6wo0neYgImNsSGfqlPEmGkkBZ709sW5JAaQXw08&m_entstream_source=timeline&refid=17&_ft_=encrypted_tracking_data.0AY8DkFmiT_S1dqgPd_wAfQoe46J_t8irO_9BC-2_s7A4wiIfw5iWpXISzELoh1rTuKkka3KqGoBRt7u2r0VFRKUzawzfbNPPm3tObNhnzneugEzOHIMOdLEC2eMT-XIsfhmu5WM0DEFze8PpsHhFBc9h3Jl31x48iepAJI1SaU-qRK6tkMHxW5TOYvgGinOiAXv2Zlyh348dsVx7yfmZL6M3aJQB5QbCYDQsea8Ma43BChOqgyLlEXLmm0Tp-pv8IHMDWbvjOoPbR2GkzWmXBfl8caJr92GRRHPRYv0Qn3KkWzcFi__aKIHaus4dFfKwJjHayT_F84zaelVeIK9Az3KAZuEOcvfbDoF5f7PFgieXOFfBN31TuWLxpJx9zECItAE-826InWKehPdImMUa6Hj6HuoR4ZAEELFArSAiwETZ7RIZEPBiw3FM9NFW5gCGQt61H2x2UvYfNKGnpPFteoGp6zZ6G9zEyiQSlZ9PRDElgV1pKgvQzcO8Q3yAMJereWrhieTkhyPYlSQmTwS7mm7dQjmUZKzk0FEl2oygtslhYVxm5h7O79hHEjvsNCNunlWe0ahiq5lmg3Xlsn1KFgltt2OADnhEtDMxd3H1eRP0KpE_VJDIwFByJinx86NyLqbEG0jYp94upwYpuIW9W2xITGS8IHH7P5c26Duxn_jsQkqqzLQZtPty0yQcKHmk-SVI8e4J1bVKTkOAoG3hvC5YnZ_ALxVTUKObMjknrK4wGLrLWEqFAR2ELu8bBAM9XV1jxDHMECH5CBMlLsFtSFKlLnAyUGPDdad4lmxGu9Q6e9jB-Y89vIyWSXtISy19Y2RqdkIjt3vC9R1vD6k0a0KMYZh7p7cqh3o4pGg1wPUDJvwJgPl9AFiFiDCktyGLCLg0TF94diJ5nZ4Zr0nKs_deC-Zv6uCWRLvAt4g-9XkAWfV_BjBoS3A8apkK-jVauvgji_lXAm7EoiopkN0IIOIM_GQsq3QQ28gXTNRIY2XpP3tAve2H6SQnwpb3prhwY_8qs2GuuGi7uQceTuOk26NH2KQsQfnb5ab-PnCr8BWhVb8DLha67xW-PYWWtiCERjMe8ye7HpfCOi8ddBaR07-b31uMmSVI3ThS3UPNxHx7abo_z9SMbAAQnQtzTA-PesdyMKcjCsZ5op63davFzCb2vsjPEZ2p8p6b-O2KL3GWpoPBQx7m6GM3J7la1aE2p3rYT1URk-Df5wFai6ecx_1fAeYIp6uvRtNFHzq3A78WfSQG3rddOH_tS9-4iGPCndpS2_zLyRVbKL2T1K1muiJ7ay1paS8Yfu3XNNfo7Mf-0CI_-F2ACev2_Wx6GsGlVnJZ&__tn__=%2As%2As-R&paipv=0', 'text': ''}], 'user_id': '100064422082976', 'username': 'MIT Confessions', 'user_url': 'https://facebook.com/beaverconfessions?lst=100001717647780%3A100064422082976%3A1682279893&eav=AfYPe_242MmQxD25v0CDkIoCMLKK0jvKnCRu8KhDP-LiYi27awwfR2sqtknn3SvRbJI&refid=17&_ft_=encrypted_tracking_data.0AY8DkFmiT_S1dqgPd_wAfQoe46J_t8irO_9BC-2_s7A4wiIfw5iWpXISzELoh1rTuKkka3KqGoBRt7u2r0VFRKUzawzfbNPPm3tObNhnzneugEzOHIMOdLEC2eMT-XIsfhmu5WM0DEFze8PpsHhFBc9h3Jl31x48iepAJI1SaU-qRK6tkMHxW5TOYvgGinOiAXv2Zlyh348dsVx7yfmZL6M3aJQB5QbCYDQsea8Ma43BChOqgyLlEXLmm0Tp-pv8IHMDWbvjOoPbR2GkzWmXBfl8caJr92GRRHPRYv0Qn3KkWzcFi__aKIHaus4dFfKwJjHayT_F84zaelVeIK9Az3KAZuEOcvfbDoF5f7PFgieXOFfBN31TuWLxpJx9zECItAE-826InWKehPdImMUa6Hj6HuoR4ZAEELFArSAiwETZ7RIZEPBiw3FM9NFW5gCGQt61H2x2UvYfNKGnpPFteoGp6zZ6G9zEyiQSlZ9PRDElgV1pKgvQzcO8Q3yAMJereWrhieTkhyPYlSQmTwS7mm7dQjmUZKzk0FEl2oygtslhYVxm5h7O79hHEjvsNCNunlWe0ahiq5lmg3Xlsn1KFgltt2OADnhEtDMxd3H1eRP0KpE_VJDIwFByJinx86NyLqbEG0jYp94upwYpuIW9W2xITGS8IHH7P5c26Duxn_jsQkqqzLQZtPty0yQcKHmk-SVI8e4J1bVKTkOAoG3hvC5YnZ_ALxVTUKObMjknrK4wGLrLWEqFAR2ELu8bBAM9XV1jxDHMECH5CBMlLsFtSFKlLnAyUGPDdad4lmxGu9Q6e9jB-Y89vIyWSXtISy19Y2RqdkIjt3vC9R1vD6k0a0KMYZh7p7cqh3o4pGg1wPUDJvwJgPl9AFiFiDCktyGLCLg0TF94diJ5nZ4Zr0nKs_deC-Zv6uCWRLvAt4g-9XkAWfV_BjBoS3A8apkK-jVauvgji_lXAm7EoiopkN0IIOIM_GQsq3QQ28gXTNRIY2XpP3tAve2H6SQnwpb3prhwY_8qs2GuuGi7uQceTuOk26NH2KQsQfnb5ab-PnCr8BWhVb8DLha67xW-PYWWtiCERjMe8ye7HpfCOi8ddBaR07-b31uMmSVI3ThS3UPNxHx7abo_z9SMbAAQnQtzTA-PesdyMKcjCsZ5op63davFzCb2vsjPEZ2p8p6b-O2KL3GWpoPBQx7m6GM3J7la1aE2p3rYT1URk-Df5wFai6ecx_1fAeYIp6uvRtNFHzq3A78WfSQG3rddOH_tS9-4iGPCndpS2_zLyRVbKL2T1K1muiJ7ay1paS8Yfu3XNNfo7Mf-0CI_-F2ACev2_Wx6GsGlVnJZ&__tn__=C-R&paipv=0', 'is_live': False, 'factcheck': None, 'shared_post_id': None, 'shared_time': None, 'shared_user_id': None, 'shared_username': None, 'shared_post_url': None, 'available': True, 'comments_full': [], 'reactors': None, 'w3_fb_url': None, 'reactions': None, 'reaction_count': 5, 'with': None, 'page_id': '462508190484900', 'sharers': None, 'image_id': None, 'image_ids': [], 'was_live': False}\n",
      "\n",
      "\n",
      "\n"
     ]
    },
    {
     "data": {
      "application/vnd.jupyter.widget-view+json": {
       "model_id": "0923b7d1d09c47e6901cd8d5de108f62",
       "version_major": 2,
       "version_minor": 0
      },
      "text/plain": [
       "  0%|          | 0/1000000000.0 [00:00<?, ?it/s]"
      ]
     },
     "metadata": {},
     "output_type": "display_data"
    },
    {
     "name": "stdout",
     "output_type": "stream",
     "text": [
      "{'post_id': '604328318391232', 'text': \"#67921 It warms my heart to see all of my fellow z attendees squatting regularly, but jfc most of y'all aren't even making it halfway down. Just today I watched one of you giblets do 3 quarter squats and then take a 5 minute break.\", 'post_text': \"#67921 It warms my heart to see all of my fellow z attendees squatting regularly, but jfc most of y'all aren't even making it halfway down. Just today I watched one of you giblets do 3 quarter squats and then take a 5 minute break.\", 'shared_text': '', 'original_text': None, 'time': datetime.datetime(2023, 4, 22, 14, 42, 27), 'timestamp': 1682188947, 'image': None, 'image_lowquality': 'https://scontent-lga3-1.xx.fbcdn.net/m1/v/t6/An_UvxJXg9tdnLU3Y5qjPi0200MLilhzPXUgxzGjQzUMaNcmjdZA6anyrngvkdub33NZzZhd51fpCAEzNHFhko5aKRFP5fS1w_lKwYrzcNLupv27.png?ccb=10-5&oh=00_AfDZVXSaQGAXa1Ag4sAHA0pBf8KP54cvxxpN1yPCvpoSKQ&oe=646CE5F9&_nc_sid=55e238', 'images': [], 'images_description': [], 'images_lowquality': ['https://scontent-lga3-1.xx.fbcdn.net/m1/v/t6/An_UvxJXg9tdnLU3Y5qjPi0200MLilhzPXUgxzGjQzUMaNcmjdZA6anyrngvkdub33NZzZhd51fpCAEzNHFhko5aKRFP5fS1w_lKwYrzcNLupv27.png?ccb=10-5&oh=00_AfDZVXSaQGAXa1Ag4sAHA0pBf8KP54cvxxpN1yPCvpoSKQ&oe=646CE5F9&_nc_sid=55e238', 'https://scontent-lga3-1.xx.fbcdn.net/m1/v/t6/An_F9bJG7govfshSMBkvcRLcxT0jmiXVYKtr7lgH5AHgUrjjpZ1OD0xyxXYgf7arc0lWgCdrR_KN4Mg7RSN3Gm3W6Gg03N1tQ-ZXzVvFJ_KvvB4.png?ccb=10-5&oh=00_AfDsewcK5aajHB4OvBXr4sugMFubcpo5Dgz-sxlqS4R4Yw&oe=646CF0A7&_nc_sid=55e238'], 'images_lowquality_description': ['Like', 'Haha'], 'video': None, 'video_duration_seconds': None, 'video_height': None, 'video_id': None, 'video_quality': None, 'video_size_MB': None, 'video_thumbnail': None, 'video_watches': None, 'video_width': None, 'likes': 4, 'comments': 3, 'shares': 0, 'post_url': 'https://facebook.com/beaverconfessions/posts/604328318391232', 'link': None, 'links': [{'link': '/story.php?story_fbid=pfbid02iWnTojkVUVu4YLGPxL6KEqMPgRy3yXRUAM2guU7QGrkiy5Sf64tM9kS8wXpUjkpfl&id=100064422082976&eav=AfaNFeOqLAMYRs2pVy8Wew-dRf_F0TGkljea0GXOHa1QcXsGOR2Fbh_jsNrsjpNLKAU&m_entstream_source=timeline&refid=17&_ft_=encrypted_tracking_data.0AY8Izd_EZ2yIkM-d_VDRffsVQUl5bejIFqjWSzegx7pXge41KbDeY-AmzPDlf2wf9zHOgplQj8QZJs9NgQ_cSG8kkMTBw1ge92A9tsc0IZJvrxoTXvYfl67_wu5QtYSvIqPlv4gG0dGWOq9UTzpARMywZg4pCP8Myg6whXgULJb_bAzk0irZ_bBOZ6cN2LSeo3xQvDhSAHjEraIy4aoDnK65DbMZHkx1BNPRAwBXu6KDgpq4Ey6X4Y6Ren_af8dGHOpiniZlVXaRFe6RZ4sojK4HbQlS9Xm5S-QPt_IDwqLz2IICr4nZhxG2MUcPaQW7JNKEqFTDO0RmpV2RqIfAFiV9Pas7mq-iSWO-tfSw0p_2XDJCH8v5nRvA9zQTWbiWJcAW-T37YxSBdqElKjtUYoHg-cZjlMsGVRbIUDY-ggRlPxiJytIpYN8i_fTK2-GXXrVcRXm3p1ROnp-SDyBxnyeYZR7pdnQ6ICh3IHzXZqiizI3pE1a4j69rT5Zv4Q2zzMhcQGGJjs2x8gnYSk-B9bwTpKNZ2Qmp9HOx-T218wibgjxVYjhNWIyZHcvQrI7lzbDGXavruQXD5h4AzGAlKupe0G7A0DxQihI_SalqfetVTdVMzFOWAICf3JymF8bMkzNvHaSJ9tN8cwKfNGTX_lcwUviUNWbHa1A-Q4Vjra1pAG6qZU5i6RHlZOPK-W_YZSC0IrScsah6gwv6yqYxuknLEeQv7rhLH_6D9Np45y4TXMRVFbWFYlLpYRerJuZBiN3Upy3nesRktB-TEZE4WI9MZ024sV4XacEfUkATVymPbb9f10bZsC-aTBeMIzp4_-KjMGrOWM4pQilXe3Ddx2mixJDk5PCENRpVFyPBgfx26XuO2JZS01YWDDKtNI2t3Dtj_WXt6-7MjcLV7gJa8UNaZ3GBAIEsnzFqhhKa0MESUaIpYTohBga2B0NoSJ9-EGGxgf_56oFffAJQD6Fr4N4d8NfAhFfrnjwCtCK9BbE1Rr_N-xlsdJG7i5NmEEk0Uni1Yf9JiRI7rsrN7XuvpLnh55svS3evdhCdxvazB2r-j2ijfdvGSKHZbgdiz2eZlEMFuEkwEnp3ymzdgQWFQ0J9GDUmn6KCZ_HWcXEH-sEq_IteakCz0sT9jqX7kYFMuI4L8kbtj4A3hYq4O64sap61XFnWocIvDBI3pG5JJEQhZ4AP0KZKHy_nGBogCyms3iJ58SbPgNtetXxv5cJWsNuLW9CAJgaOkg_L7lZT0oE8zA4WYKq6yqVeYFh9BKtx2m06NQXUmrzhbYGAl3SYBHNrYVd1sItGdFhO0FMiksv67VJ5OQ1KBs1Jd0Fcin0LeRPX&__tn__=%2As%2As-R&paipv=0', 'text': ''}], 'user_id': '100064422082976', 'username': 'MIT Confessions', 'user_url': 'https://facebook.com/beaverconfessions?lst=100001717647780%3A100064422082976%3A1682279893&eav=AfYPe_242MmQxD25v0CDkIoCMLKK0jvKnCRu8KhDP-LiYi27awwfR2sqtknn3SvRbJI&refid=17&_ft_=encrypted_tracking_data.0AY8Izd_EZ2yIkM-d_VDRffsVQUl5bejIFqjWSzegx7pXge41KbDeY-AmzPDlf2wf9zHOgplQj8QZJs9NgQ_cSG8kkMTBw1ge92A9tsc0IZJvrxoTXvYfl67_wu5QtYSvIqPlv4gG0dGWOq9UTzpARMywZg4pCP8Myg6whXgULJb_bAzk0irZ_bBOZ6cN2LSeo3xQvDhSAHjEraIy4aoDnK65DbMZHkx1BNPRAwBXu6KDgpq4Ey6X4Y6Ren_af8dGHOpiniZlVXaRFe6RZ4sojK4HbQlS9Xm5S-QPt_IDwqLz2IICr4nZhxG2MUcPaQW7JNKEqFTDO0RmpV2RqIfAFiV9Pas7mq-iSWO-tfSw0p_2XDJCH8v5nRvA9zQTWbiWJcAW-T37YxSBdqElKjtUYoHg-cZjlMsGVRbIUDY-ggRlPxiJytIpYN8i_fTK2-GXXrVcRXm3p1ROnp-SDyBxnyeYZR7pdnQ6ICh3IHzXZqiizI3pE1a4j69rT5Zv4Q2zzMhcQGGJjs2x8gnYSk-B9bwTpKNZ2Qmp9HOx-T218wibgjxVYjhNWIyZHcvQrI7lzbDGXavruQXD5h4AzGAlKupe0G7A0DxQihI_SalqfetVTdVMzFOWAICf3JymF8bMkzNvHaSJ9tN8cwKfNGTX_lcwUviUNWbHa1A-Q4Vjra1pAG6qZU5i6RHlZOPK-W_YZSC0IrScsah6gwv6yqYxuknLEeQv7rhLH_6D9Np45y4TXMRVFbWFYlLpYRerJuZBiN3Upy3nesRktB-TEZE4WI9MZ024sV4XacEfUkATVymPbb9f10bZsC-aTBeMIzp4_-KjMGrOWM4pQilXe3Ddx2mixJDk5PCENRpVFyPBgfx26XuO2JZS01YWDDKtNI2t3Dtj_WXt6-7MjcLV7gJa8UNaZ3GBAIEsnzFqhhKa0MESUaIpYTohBga2B0NoSJ9-EGGxgf_56oFffAJQD6Fr4N4d8NfAhFfrnjwCtCK9BbE1Rr_N-xlsdJG7i5NmEEk0Uni1Yf9JiRI7rsrN7XuvpLnh55svS3evdhCdxvazB2r-j2ijfdvGSKHZbgdiz2eZlEMFuEkwEnp3ymzdgQWFQ0J9GDUmn6KCZ_HWcXEH-sEq_IteakCz0sT9jqX7kYFMuI4L8kbtj4A3hYq4O64sap61XFnWocIvDBI3pG5JJEQhZ4AP0KZKHy_nGBogCyms3iJ58SbPgNtetXxv5cJWsNuLW9CAJgaOkg_L7lZT0oE8zA4WYKq6yqVeYFh9BKtx2m06NQXUmrzhbYGAl3SYBHNrYVd1sItGdFhO0FMiksv67VJ5OQ1KBs1Jd0Fcin0LeRPX&__tn__=C-R&paipv=0', 'is_live': False, 'factcheck': None, 'shared_post_id': None, 'shared_time': None, 'shared_user_id': None, 'shared_username': None, 'shared_post_url': None, 'available': True, 'comments_full': [{'comment_id': '1891529794537664', 'comment_url': 'https://facebook.com/1891529794537664', 'commenter_id': '100009756160371', 'commenter_url': 'https://facebook.com/profile.php?id=100009756160371&eav=AfaY47_C_SZ-GOOFe9B9M4oPP9zrXBrsenDOdQ-w_xquHhu4J_ac5BLk0S6TUnALUNk&fref=nf&rc=p&refid=52&__tn__=R&paipv=0', 'commenter_name': 'Alexander Young', 'commenter_meta': 'Top fan', 'comment_text': 'atg only', 'comment_time': datetime.datetime(2023, 4, 22, 0, 0), 'comment_image': None, 'comment_reactors': [], 'comment_reactions': None, 'comment_reaction_count': None, 'replies': []}, {'comment_id': '1696605770796519', 'comment_url': 'https://facebook.com/1696605770796519', 'commenter_id': '100044759145161', 'commenter_url': 'https://facebook.com/diego.urena.967?eav=AfYyjm0LvfUWmcZRZ80cuTaOynNiC2EAp81h21gpWDw9B5zYiPIOR1RJnjkOuEB24cM&fref=nf&rc=p&refid=52&__tn__=R&paipv=0', 'commenter_name': 'Diego Ureña', 'commenter_meta': 'Top fan', 'comment_text': 'Daniel Fleming you better be hitting full rom', 'comment_time': datetime.datetime(2023, 4, 22, 1, 0), 'comment_image': None, 'comment_reactors': [], 'comment_reactions': None, 'comment_reaction_count': None, 'replies': []}, {'comment_id': '1406818663475958', 'comment_url': 'https://facebook.com/1406818663475958', 'commenter_id': '100028493619368', 'commenter_url': 'https://facebook.com/nicole.stiles.94849?eav=AfYDLpSLehsBHBGaGxGlsvm2oE70gLK5iooFdins9SOFyikseNqVavk6fj-tBMZP8mM&fref=nf&rc=p&refid=52&__tn__=R&paipv=0', 'commenter_name': 'Nicole Stiles', 'commenter_meta': None, 'comment_text': 'Sabrina Meng dis me', 'comment_time': datetime.datetime(2023, 4, 22, 23, 0), 'comment_image': None, 'comment_reactors': [], 'comment_reactions': None, 'comment_reaction_count': None, 'replies': []}], 'reactors': None, 'w3_fb_url': None, 'reactions': None, 'reaction_count': 4, 'with': None, 'page_id': '462508190484900', 'sharers': None, 'image_id': None, 'image_ids': [], 'was_live': False}\n",
      "Alexander Young said atg only\n",
      "Diego Ureña said Daniel Fleming you better be hitting full rom\n",
      "Nicole Stiles said Sabrina Meng dis me\n",
      "\n",
      "\n",
      "\n"
     ]
    },
    {
     "name": "stderr",
     "output_type": "stream",
     "text": [
      "Traceback (most recent call last):\n",
      "  File \"c:\\Users\\russc\\OneDrive - Massachusetts Institute of Technology\\Documents\\Side Projects\\Live_Confessions\\.conda\\lib\\site-packages\\facebook_scraper\\utils.py\", line 279, in safe_consume\n",
      "    for item in generator:\n",
      "  File \"c:\\Users\\russc\\OneDrive - Massachusetts Institute of Technology\\Documents\\Side Projects\\Live_Confessions\\.conda\\lib\\site-packages\\facebook_scraper\\extractors.py\", line 1193, in extract_comments_full\n",
      "    if not self.full_post_html:\n",
      "  File \"c:\\Users\\russc\\OneDrive - Massachusetts Institute of Technology\\Documents\\Side Projects\\Live_Confessions\\.conda\\lib\\site-packages\\facebook_scraper\\extractors.py\", line 1351, in full_post_html\n",
      "    response = self.request(url)\n",
      "  File \"c:\\Users\\russc\\OneDrive - Massachusetts Institute of Technology\\Documents\\Side Projects\\Live_Confessions\\.conda\\lib\\site-packages\\facebook_scraper\\facebook_scraper.py\", line 936, in get\n",
      "    raise exceptions.AccountDisabled(\"Your Account Has Been Locked\")\n",
      "facebook_scraper.exceptions.AccountDisabled: Your Account Has Been Locked\n"
     ]
    },
    {
     "name": "stdout",
     "output_type": "stream",
     "text": [
      "{'post_id': '604328285057902', 'text': '#67920 DOECHII SLAPS HELL YEA SEB I LOVE YOU WTFFFFF', 'post_text': '#67920 DOECHII SLAPS HELL YEA SEB I LOVE YOU WTFFFFF', 'shared_text': '', 'original_text': None, 'time': datetime.datetime(2023, 4, 22, 14, 42, 15), 'timestamp': 1682188935, 'image': None, 'image_lowquality': 'https://scontent-lga3-1.xx.fbcdn.net/m1/v/t6/An_UvxJXg9tdnLU3Y5qjPi0200MLilhzPXUgxzGjQzUMaNcmjdZA6anyrngvkdub33NZzZhd51fpCAEzNHFhko5aKRFP5fS1w_lKwYrzcNLupv27.png?ccb=10-5&oh=00_AfDZVXSaQGAXa1Ag4sAHA0pBf8KP54cvxxpN1yPCvpoSKQ&oe=646CE5F9&_nc_sid=55e238', 'images': [], 'images_description': [], 'images_lowquality': ['https://scontent-lga3-1.xx.fbcdn.net/m1/v/t6/An_UvxJXg9tdnLU3Y5qjPi0200MLilhzPXUgxzGjQzUMaNcmjdZA6anyrngvkdub33NZzZhd51fpCAEzNHFhko5aKRFP5fS1w_lKwYrzcNLupv27.png?ccb=10-5&oh=00_AfDZVXSaQGAXa1Ag4sAHA0pBf8KP54cvxxpN1yPCvpoSKQ&oe=646CE5F9&_nc_sid=55e238'], 'images_lowquality_description': ['Like'], 'video': None, 'video_duration_seconds': None, 'video_height': None, 'video_id': None, 'video_quality': None, 'video_size_MB': None, 'video_thumbnail': None, 'video_watches': None, 'video_width': None, 'likes': 4, 'comments': 0, 'shares': 0, 'post_url': 'https://facebook.com/beaverconfessions/posts/604328285057902', 'link': None, 'links': [{'link': '/story.php?story_fbid=pfbid02aEb2BNYMbJHfYkRdx8oV7zGYbqvrJXZHSt3AV2GXBkV3jiGw2yxm8oz3FDdFXcDZl&id=100064422082976&eav=AfYghUL3LMJUAyvAJkjpxiYGhjo5sbkktAcWQlVk2bDsoL6I5AaV5Q4Nk4i8oisZiZg&m_entstream_source=timeline&refid=17&_ft_=encrypted_tracking_data.0AY_XH00WDcqEN-KUYyQrOIBmgOFIluDWVeBcAST6n06rm7LMSPIhATqN5aGY-RsjeOXLpVWxLYsoG7XXWqv2l0q6OZDxuomhFpJmNczP5DeBffs0HpocTc7kp05hoUKHzgkGKYdRQgAEnqiGoUuXjfbwRQUEUJAhX6Yz0C6h16dKY4Ubfwr9JNVEeNuleY0kE_WRFIGF4ZlhrDzKlKgFiLwPP14Vb-Odvk5XWl39B1tVOTCTtQcxh5lQmHQ8nVdKdPjCRGDVUOaXVRPXg_8gPgXcntSHQFiCPD7maqZg07arfJI0uc9WMu54rPGaetRK8T7fxjlrCTCsh0i0tLzKhlvIX5gH2OTk-RM-NkBbCWmsiE3Yv-8g7v0pxgu3x_N2IUoX4TLi2V-M38TugNDjcwmAiwNtTjzBmyUuNC3wFXHgSyRCBSLDgJKK-Rh6_o9Vpilj-\\\\-\\\\co3bVQtdY0nNbwKU324ltK7B7TT4MP-S0Fndf_A2QUPqIVzzdGotVOcKvXGCphXoQaWh6s66Uul8slRW9MVYlMMFlTuAEtWJtsXnV_dAJBe3gE_U0fUTCPaCaB-L-smueKwf1ZkUhBxTLxJOOZ_aC_zGrzyOiqE-Ketvlr1I8PY7MmF-pcwTFLZ0AczNMNZr4CW2cD60I525206dx4njWvHhYPc-ahBZX9O6xeuTnOFFNX4VoI-W7N4nlQzBA7E3GPuwE-SeF4S65zkxeyRhmPkX39dJcSq2i9a6NT-StIav0rtgJxlpkgBwi-aLHAGogZDZHZsm6jogfNFs8a1trXOdJUmw1ncB_iI0EifwJJEQW44I-mI5Of6LcEEcWWyLkstQc-kBQvRnvJwvWiErwSSUtq2o3vBjKb3DCTACEAyV4pYNtkDm_doRZm-URc0tDJcsjRKNaUydlyzQfnRQF77GEOMa9KlWWKVrbl5ATePif1TbQFAsaypqBJKW0wpSQgGgpqWnxQSdhOP6fHMwC0N1puPS0PSstwwUaVFXShrUC7N0gcPW8Hf6j_gLSMpY_JpbDOv9cCJOGTeOLJHYbvIrLuMHBTLIVXq5nZP9Gsv86ca8kbWG9i5nOqrfYVTR7_nTIf7z-1h2xP9khfvXD6asJ9ZR6pSgqwQISn3HhZGsMCUdq7A-rx3Na-EGTpbbMh0jvJZdxWtfFntahz6Qytjv8ykom00WwaxrG5Tw3uWIoDVc703emEG0jeTTh2Hx4Yys7XEiaqI5VUNvYbd-CfM2oRoIOFOyLBhMA87p-iIF92BxoSk0XBadzF5qwwtfx1oawXDS44dCMoY2GzowBJANZh3reN_ViBXpCav3tW98ww7KBo6aouKwXFJZAS&__tn__=%2As%2As-R&paipv=0', 'text': ''}], 'user_id': '100064422082976', 'username': 'MIT Confessions', 'user_url': 'https://facebook.com/beaverconfessions?lst=100001717647780%3A100064422082976%3A1682279893&eav=AfYPe_242MmQxD25v0CDkIoCMLKK0jvKnCRu8KhDP-LiYi27awwfR2sqtknn3SvRbJI&refid=17&_ft_=encrypted_tracking_data.0AY_XH00WDcqEN-KUYyQrOIBmgOFIluDWVeBcAST6n06rm7LMSPIhATqN5aGY-RsjeOXLpVWxLYsoG7XXWqv2l0q6OZDxuomhFpJmNczP5DeBffs0HpocTc7kp05hoUKHzgkGKYdRQgAEnqiGoUuXjfbwRQUEUJAhX6Yz0C6h16dKY4Ubfwr9JNVEeNuleY0kE_WRFIGF4ZlhrDzKlKgFiLwPP14Vb-Odvk5XWl39B1tVOTCTtQcxh5lQmHQ8nVdKdPjCRGDVUOaXVRPXg_8gPgXcntSHQFiCPD7maqZg07arfJI0uc9WMu54rPGaetRK8T7fxjlrCTCsh0i0tLzKhlvIX5gH2OTk-RM-NkBbCWmsiE3Yv-8g7v0pxgu3x_N2IUoX4TLi2V-M38TugNDjcwmAiwNtTjzBmyUuNC3wFXHgSyRCBSLDgJKK-Rh6_o9Vpilj-\\\\-\\\\co3bVQtdY0nNbwKU324ltK7B7TT4MP-S0Fndf_A2QUPqIVzzdGotVOcKvXGCphXoQaWh6s66Uul8slRW9MVYlMMFlTuAEtWJtsXnV_dAJBe3gE_U0fUTCPaCaB-L-smueKwf1ZkUhBxTLxJOOZ_aC_zGrzyOiqE-Ketvlr1I8PY7MmF-pcwTFLZ0AczNMNZr4CW2cD60I525206dx4njWvHhYPc-ahBZX9O6xeuTnOFFNX4VoI-W7N4nlQzBA7E3GPuwE-SeF4S65zkxeyRhmPkX39dJcSq2i9a6NT-StIav0rtgJxlpkgBwi-aLHAGogZDZHZsm6jogfNFs8a1trXOdJUmw1ncB_iI0EifwJJEQW44I-mI5Of6LcEEcWWyLkstQc-kBQvRnvJwvWiErwSSUtq2o3vBjKb3DCTACEAyV4pYNtkDm_doRZm-URc0tDJcsjRKNaUydlyzQfnRQF77GEOMa9KlWWKVrbl5ATePif1TbQFAsaypqBJKW0wpSQgGgpqWnxQSdhOP6fHMwC0N1puPS0PSstwwUaVFXShrUC7N0gcPW8Hf6j_gLSMpY_JpbDOv9cCJOGTeOLJHYbvIrLuMHBTLIVXq5nZP9Gsv86ca8kbWG9i5nOqrfYVTR7_nTIf7z-1h2xP9khfvXD6asJ9ZR6pSgqwQISn3HhZGsMCUdq7A-rx3Na-EGTpbbMh0jvJZdxWtfFntahz6Qytjv8ykom00WwaxrG5Tw3uWIoDVc703emEG0jeTTh2Hx4Yys7XEiaqI5VUNvYbd-CfM2oRoIOFOyLBhMA87p-iIF92BxoSk0XBadzF5qwwtfx1oawXDS44dCMoY2GzowBJANZh3reN_ViBXpCav3tW98ww7KBo6aouKwXFJZAS&__tn__=C-R&paipv=0', 'is_live': False, 'factcheck': None, 'shared_post_id': None, 'shared_time': None, 'shared_user_id': None, 'shared_username': None, 'shared_post_url': None, 'available': True, 'comments_full': [], 'reactors': None, 'w3_fb_url': None, 'reactions': None, 'reaction_count': 4, 'with': None, 'page_id': '462508190484900', 'sharers': None, 'image_id': None, 'image_ids': [], 'was_live': False}\n",
      "\n",
      "\n",
      "\n",
      "{'post_id': '604328258391238', 'text': \"#67919 Frankly, I find it embarrassing that you only get in touch when want to tell me about the new guy you like or want advice or want to get something off of your chest. There isn't even the guise of acting remotely interested in anything going on with me and it's the same routine, briefly asking how classes are going and then you're off. As soon as you're done telling me about what's up in your life, we just sit there in silence. This isn't what friendship should be.\", 'post_text': \"#67919 Frankly, I find it embarrassing that you only get in touch when want to tell me about the new guy you like or want advice or want to get something off of your chest. There isn't even the guise of acting remotely interested in anything going on with me and it's the same routine, briefly asking how classes are going and then you're off. As soon as you're done telling me about what's up in your life, we just sit there in silence. This isn't what friendship should be.\", 'shared_text': '', 'original_text': None, 'time': datetime.datetime(2023, 4, 22, 14, 42, 9), 'timestamp': 1682188929, 'image': None, 'image_lowquality': 'https://scontent-lga3-1.xx.fbcdn.net/m1/v/t6/An-0mG6nK_Uk-eBw_Z5hXaQPl2Il-GAtgNisMF_CPi6qvu85Lx2-5PalMJvS7fIbuodHct0V3tJrvSxzau9mOcNxqVhoiy8lxxQ9edz-6r6_o9YroQ.png?ccb=10-5&oh=00_AfCgfalNR9bIhtBhf9kbzeloq-VwEPxQkHVVJAduEw9rHw&oe=646CF084&_nc_sid=55e238', 'images': [], 'images_description': [], 'images_lowquality': ['https://scontent-lga3-1.xx.fbcdn.net/m1/v/t6/An-0mG6nK_Uk-eBw_Z5hXaQPl2Il-GAtgNisMF_CPi6qvu85Lx2-5PalMJvS7fIbuodHct0V3tJrvSxzau9mOcNxqVhoiy8lxxQ9edz-6r6_o9YroQ.png?ccb=10-5&oh=00_AfCgfalNR9bIhtBhf9kbzeloq-VwEPxQkHVVJAduEw9rHw&oe=646CF084&_nc_sid=55e238', 'https://scontent-lga3-1.xx.fbcdn.net/m1/v/t6/An_UvxJXg9tdnLU3Y5qjPi0200MLilhzPXUgxzGjQzUMaNcmjdZA6anyrngvkdub33NZzZhd51fpCAEzNHFhko5aKRFP5fS1w_lKwYrzcNLupv27.png?ccb=10-5&oh=00_AfDZVXSaQGAXa1Ag4sAHA0pBf8KP54cvxxpN1yPCvpoSKQ&oe=646CE5F9&_nc_sid=55e238'], 'images_lowquality_description': ['Sad', 'Like'], 'video': None, 'video_duration_seconds': None, 'video_height': None, 'video_id': None, 'video_quality': None, 'video_size_MB': None, 'video_thumbnail': None, 'video_watches': None, 'video_width': None, 'likes': 15, 'comments': 0, 'shares': 0, 'post_url': 'https://facebook.com/beaverconfessions/posts/604328258391238', 'link': None, 'links': [{'link': '/story.php?story_fbid=pfbid026sKyw2s2WVun2gRjeGvg7tXqfhWzetP1BobzhkioSEpVNuNFQ2B1i8duUUx7qCqol&id=100064422082976&eav=AfZnIBE4j8BY9bWLqYoNhYerkyyTJSUh6OvsebnLBhT0agA30AqSZNtjHY96RPq0dPc&m_entstream_source=timeline&refid=17&_ft_=encrypted_tracking_data.0AY_IZWj6JArpq1I7empiCNRm2GIId1-fAKh6oqhRovwUfASv8HLEZBlbXvJRzw1pGh6qByc1H5FaLTbx4xyFuNBv4tThXYm4gs_JJXZdhjQ64bu-hbBeCTMy3MilUlqurxGfmZKedFfKfnmy2FAoq9AS6L9DnIpU7xljXOun_krVCn0Bc_oYYno232nlY4Aj_vD4cLJCu7Id1_z_iBFhp1Dv9mP2xgkbVyYja1wv6RpO-\\\\-\\\\3iYTAoO6T05kiHqJxZxpmgqdWexKP8fXWzVVFiPVecQ4Vnmijb1adiZO_uqyCWnjIQS7TJcQ24JJW44VKPemYnCFwrTArF7IRynVPsA7-VCurSdnm67NSt_89BwG8TnDeiLj-A3Tv6-SQC9CIWrjfq2VDTUstLWAhjdVXPrqTtx1Zj_IMOknSOeQdac72gBfgILE8ScnLdPOxwTo39Wdgh3Fp6tybiCOZCOMtS__36IXhhBo20sJUfvQ6YEgbAVAJXLVrP03f5KmaIX27ZGhmW2NuFMZCR1FCUie1CYFJLgR4JDGapW9aim4zripSWzkkGOzpe3dYvQknVJVLxy1GyBpfvQiPAKnfTswiL5yWpCAWWiKKXG-7sdmzPfHbnn7dGEUCsv8AX9hkLkoap6ldMNCCxTrH_xR6gXIYHnyBzBTX1xs_8AZPD6WWklSMxenvGzQPWLiYpN-3FoBbn8EwZp_fncYiuR4r2K2ob9Oh7K1qL6drHD6AG9Ajo11ctoicQdmcRvvOQuhxwuCB7-A6VYPpGcqtYGsViN4MznhO4QYs4dHuGoYjZH0zS7SO-McaUG_RYVbNCs-v0ciTUuXmO-do0fqCjVRgb-TRdnFhzuqMtPsywcV3xuMKHBRqCcIFbqOO9PlOyfa8mhHiQuGpBqiqDcoXd10CGAuS1Qk14Qg9jKTXJ0ltOSI7bxDxYVvlWKvUF3VHDjmlj45T2NL53QAw4Q4yH3hCLSO-\\\\-\\\\4yDi7k2heM3y4XJvW9J2xQ0udv-5kSrzksHg9e7HG7M-SkXOBVkh1PJMGtgNAFK8Q5UX_2X2UM1KrHT7N56T_Zv31bGx8A-rwvhTQ7IfRfus02N_8i1dkDuNhkz4s1s8MYh_v_fJfbUa3byQLJbQWTTmkMhVyj0o83kxuXGvsQaKh3hDaRnZO6ggpIpLfDWiWWwOJeJ3XNbX6WXiCUuWEXabbVpEY97vquiHj2Ywi1fXrHwqGgDEETZYHccfVyaX0XdXvEjYqrXggYAqLfxyg66OjutQMeLto1hrGlN4gG7PdIvFRx9YTX01hPOFCpqLdiHeSY0MZyMjn0_yCS9vbmg6R55uCNvrPH805XcY-KjOOiJQ&__tn__=%2As%2As-R&paipv=0', 'text': ''}], 'user_id': '100064422082976', 'username': 'MIT Confessions', 'user_url': 'https://facebook.com/beaverconfessions?lst=100001717647780%3A100064422082976%3A1682279893&eav=AfYPe_242MmQxD25v0CDkIoCMLKK0jvKnCRu8KhDP-LiYi27awwfR2sqtknn3SvRbJI&refid=17&_ft_=encrypted_tracking_data.0AY_IZWj6JArpq1I7empiCNRm2GIId1-fAKh6oqhRovwUfASv8HLEZBlbXvJRzw1pGh6qByc1H5FaLTbx4xyFuNBv4tThXYm4gs_JJXZdhjQ64bu-hbBeCTMy3MilUlqurxGfmZKedFfKfnmy2FAoq9AS6L9DnIpU7xljXOun_krVCn0Bc_oYYno232nlY4Aj_vD4cLJCu7Id1_z_iBFhp1Dv9mP2xgkbVyYja1wv6RpO-\\\\-\\\\3iYTAoO6T05kiHqJxZxpmgqdWexKP8fXWzVVFiPVecQ4Vnmijb1adiZO_uqyCWnjIQS7TJcQ24JJW44VKPemYnCFwrTArF7IRynVPsA7-VCurSdnm67NSt_89BwG8TnDeiLj-A3Tv6-SQC9CIWrjfq2VDTUstLWAhjdVXPrqTtx1Zj_IMOknSOeQdac72gBfgILE8ScnLdPOxwTo39Wdgh3Fp6tybiCOZCOMtS__36IXhhBo20sJUfvQ6YEgbAVAJXLVrP03f5KmaIX27ZGhmW2NuFMZCR1FCUie1CYFJLgR4JDGapW9aim4zripSWzkkGOzpe3dYvQknVJVLxy1GyBpfvQiPAKnfTswiL5yWpCAWWiKKXG-7sdmzPfHbnn7dGEUCsv8AX9hkLkoap6ldMNCCxTrH_xR6gXIYHnyBzBTX1xs_8AZPD6WWklSMxenvGzQPWLiYpN-3FoBbn8EwZp_fncYiuR4r2K2ob9Oh7K1qL6drHD6AG9Ajo11ctoicQdmcRvvOQuhxwuCB7-A6VYPpGcqtYGsViN4MznhO4QYs4dHuGoYjZH0zS7SO-McaUG_RYVbNCs-v0ciTUuXmO-do0fqCjVRgb-TRdnFhzuqMtPsywcV3xuMKHBRqCcIFbqOO9PlOyfa8mhHiQuGpBqiqDcoXd10CGAuS1Qk14Qg9jKTXJ0ltOSI7bxDxYVvlWKvUF3VHDjmlj45T2NL53QAw4Q4yH3hCLSO-\\\\-\\\\4yDi7k2heM3y4XJvW9J2xQ0udv-5kSrzksHg9e7HG7M-SkXOBVkh1PJMGtgNAFK8Q5UX_2X2UM1KrHT7N56T_Zv31bGx8A-rwvhTQ7IfRfus02N_8i1dkDuNhkz4s1s8MYh_v_fJfbUa3byQLJbQWTTmkMhVyj0o83kxuXGvsQaKh3hDaRnZO6ggpIpLfDWiWWwOJeJ3XNbX6WXiCUuWEXabbVpEY97vquiHj2Ywi1fXrHwqGgDEETZYHccfVyaX0XdXvEjYqrXggYAqLfxyg66OjutQMeLto1hrGlN4gG7PdIvFRx9YTX01hPOFCpqLdiHeSY0MZyMjn0_yCS9vbmg6R55uCNvrPH805XcY-KjOOiJQ&__tn__=C-R&paipv=0', 'is_live': False, 'factcheck': None, 'shared_post_id': None, 'shared_time': None, 'shared_user_id': None, 'shared_username': None, 'shared_post_url': None, 'available': True, 'comments_full': [], 'reactors': None, 'w3_fb_url': None, 'reactions': None, 'reaction_count': 15, 'with': None, 'page_id': '462508190484900', 'sharers': None, 'image_id': None, 'image_ids': [], 'was_live': False}\n",
      "\n",
      "\n",
      "\n"
     ]
    },
    {
     "name": "stderr",
     "output_type": "stream",
     "text": [
      "Traceback (most recent call last):\n",
      "  File \"c:\\Users\\russc\\OneDrive - Massachusetts Institute of Technology\\Documents\\Side Projects\\Live_Confessions\\.conda\\lib\\site-packages\\facebook_scraper\\utils.py\", line 279, in safe_consume\n",
      "    for item in generator:\n",
      "  File \"c:\\Users\\russc\\OneDrive - Massachusetts Institute of Technology\\Documents\\Side Projects\\Live_Confessions\\.conda\\lib\\site-packages\\facebook_scraper\\extractors.py\", line 1193, in extract_comments_full\n",
      "    if not self.full_post_html:\n",
      "  File \"c:\\Users\\russc\\OneDrive - Massachusetts Institute of Technology\\Documents\\Side Projects\\Live_Confessions\\.conda\\lib\\site-packages\\facebook_scraper\\extractors.py\", line 1351, in full_post_html\n",
      "    response = self.request(url)\n",
      "  File \"c:\\Users\\russc\\OneDrive - Massachusetts Institute of Technology\\Documents\\Side Projects\\Live_Confessions\\.conda\\lib\\site-packages\\facebook_scraper\\facebook_scraper.py\", line 936, in get\n",
      "    raise exceptions.AccountDisabled(\"Your Account Has Been Locked\")\n",
      "facebook_scraper.exceptions.AccountDisabled: Your Account Has Been Locked\n"
     ]
    }
   ],
   "source": [
    "for posts in get_posts('beaverconfessions',pages=1, **my_dict):\n",
    "    print(posts)\n",
    "    # print(posts['text'])\n",
    "    for i in posts['comments_full']:\n",
    "        # print(f'i: {i}')\n",
    "        print(f'{i[\"commenter_name\"]} said {i[\"comment_text\"]}')\n",
    "    print('\\n\\n')"
   ]
  },
  {
   "cell_type": "code",
   "execution_count": 6,
   "metadata": {},
   "outputs": [],
   "source": [
    "# Saving the posts in a dictionary\n",
    "def write_to_json(dictionary, save_loc):\n",
    "    file_name = dictionary['post_id'] + '.json'\n",
    "    file_path = save_loc / file_name\n",
    "    # Writing to sample.json\n",
    "    # del dictionary['time']\n",
    "    # print(dictionary)\n",
    "    # print('\\n\\n\\n')\n",
    "    with open(file_path, \"w\") as outfile:\n",
    "        json.dump(dictionary, outfile, indent=4, default=str)\n",
    "\n",
    "def load_json(json_path):\n",
    "    # Opening JSON file\n",
    "    with open(json_path, 'r') as openfile:\n",
    "        # Reading from json file\n",
    "        json_object = json.load(openfile)\n",
    "    return json_object\n"
   ]
  },
  {
   "cell_type": "code",
   "execution_count": 5,
   "metadata": {},
   "outputs": [
    {
     "ename": "AccountDisabled",
     "evalue": "Your Account Has Been Locked",
     "output_type": "error",
     "traceback": [
      "\u001b[1;31m---------------------------------------------------------------------------\u001b[0m",
      "\u001b[1;31mAccountDisabled\u001b[0m                           Traceback (most recent call last)",
      "Cell \u001b[1;32mIn[5], line 20\u001b[0m\n\u001b[0;32m     17\u001b[0m     \u001b[39mreturn\u001b[39;00m json_object\n\u001b[0;32m     19\u001b[0m save_loc \u001b[39m=\u001b[39m Path(\u001b[39m'\u001b[39m\u001b[39m.\u001b[39m\u001b[39m\\\u001b[39m\u001b[39msaved_posts\u001b[39m\u001b[39m'\u001b[39m)\n\u001b[1;32m---> 20\u001b[0m post_generator \u001b[39m=\u001b[39m get_posts(\u001b[39m'\u001b[39m\u001b[39mbeaverconfessions\u001b[39m\u001b[39m'\u001b[39m,pages\u001b[39m=\u001b[39m\u001b[39m1\u001b[39m, \u001b[39m*\u001b[39m\u001b[39m*\u001b[39mmy_dict)\n\u001b[0;32m     21\u001b[0m \u001b[39mfor\u001b[39;00m posts \u001b[39min\u001b[39;00m post_generator:    \n\u001b[0;32m     22\u001b[0m     write_to_json(posts, save_loc)\n",
      "File \u001b[1;32mc:\\Users\\russc\\OneDrive - Massachusetts Institute of Technology\\Documents\\Side Projects\\Live_Confessions\\.conda\\lib\\site-packages\\facebook_scraper\\__init__.py:196\u001b[0m, in \u001b[0;36mget_posts\u001b[1;34m(account, group, post_urls, hashtag, credentials, **kwargs)\u001b[0m\n\u001b[0;32m    194\u001b[0m \u001b[39mif\u001b[39;00m cookies \u001b[39mis\u001b[39;00m \u001b[39mnot\u001b[39;00m \u001b[39mNone\u001b[39;00m \u001b[39mand\u001b[39;00m credentials \u001b[39mis\u001b[39;00m \u001b[39mnot\u001b[39;00m \u001b[39mNone\u001b[39;00m:\n\u001b[0;32m    195\u001b[0m     \u001b[39mraise\u001b[39;00m \u001b[39mValueError\u001b[39;00m(\u001b[39m\"\u001b[39m\u001b[39mCan\u001b[39m\u001b[39m'\u001b[39m\u001b[39mt use cookies and credentials arguments at the same time\u001b[39m\u001b[39m\"\u001b[39m)\n\u001b[1;32m--> 196\u001b[0m set_cookies(cookies)\n\u001b[0;32m    198\u001b[0m options: Union[Dict[\u001b[39mstr\u001b[39m, Any], Set[\u001b[39mstr\u001b[39m]] \u001b[39m=\u001b[39m kwargs\u001b[39m.\u001b[39msetdefault(\u001b[39m'\u001b[39m\u001b[39moptions\u001b[39m\u001b[39m'\u001b[39m, {})\n\u001b[0;32m    199\u001b[0m \u001b[39mif\u001b[39;00m \u001b[39misinstance\u001b[39m(options, \u001b[39mset\u001b[39m):\n",
      "File \u001b[1;32mc:\\Users\\russc\\OneDrive - Massachusetts Institute of Technology\\Documents\\Side Projects\\Live_Confessions\\.conda\\lib\\site-packages\\facebook_scraper\\__init__.py:51\u001b[0m, in \u001b[0;36mset_cookies\u001b[1;34m(cookies)\u001b[0m\n\u001b[0;32m     49\u001b[0m     \u001b[39mraise\u001b[39;00m exceptions\u001b[39m.\u001b[39mInvalidCookies(\u001b[39mf\u001b[39m\u001b[39m\"\u001b[39m\u001b[39mMissing cookies with name(s): \u001b[39m\u001b[39m{\u001b[39;00mmissing_cookies\u001b[39m}\u001b[39;00m\u001b[39m\"\u001b[39m)\n\u001b[0;32m     50\u001b[0m _scraper\u001b[39m.\u001b[39msession\u001b[39m.\u001b[39mcookies\u001b[39m.\u001b[39mupdate(cookies)\n\u001b[1;32m---> 51\u001b[0m \u001b[39mif\u001b[39;00m \u001b[39mnot\u001b[39;00m _scraper\u001b[39m.\u001b[39;49mis_logged_in():\n\u001b[0;32m     52\u001b[0m     \u001b[39mraise\u001b[39;00m exceptions\u001b[39m.\u001b[39mInvalidCookies(\u001b[39mf\u001b[39m\u001b[39m\"\u001b[39m\u001b[39mCookies are not valid\u001b[39m\u001b[39m\"\u001b[39m)\n",
      "File \u001b[1;32mc:\\Users\\russc\\OneDrive - Massachusetts Institute of Technology\\Documents\\Side Projects\\Live_Confessions\\.conda\\lib\\site-packages\\facebook_scraper\\facebook_scraper.py:1003\u001b[0m, in \u001b[0;36mFacebookScraper.is_logged_in\u001b[1;34m(self)\u001b[0m\n\u001b[0;32m   1001\u001b[0m \u001b[39mdef\u001b[39;00m \u001b[39mis_logged_in\u001b[39m(\u001b[39mself\u001b[39m) \u001b[39m-\u001b[39m\u001b[39m>\u001b[39m \u001b[39mbool\u001b[39m:\n\u001b[0;32m   1002\u001b[0m     \u001b[39mtry\u001b[39;00m:\n\u001b[1;32m-> 1003\u001b[0m         \u001b[39mself\u001b[39;49m\u001b[39m.\u001b[39;49mget(\u001b[39m'\u001b[39;49m\u001b[39mhttps://facebook.com/settings\u001b[39;49m\u001b[39m'\u001b[39;49m)\n\u001b[0;32m   1004\u001b[0m         \u001b[39mreturn\u001b[39;00m \u001b[39mTrue\u001b[39;00m\n\u001b[0;32m   1005\u001b[0m     \u001b[39mexcept\u001b[39;00m exceptions\u001b[39m.\u001b[39mLoginRequired:\n",
      "File \u001b[1;32mc:\\Users\\russc\\OneDrive - Massachusetts Institute of Technology\\Documents\\Side Projects\\Live_Confessions\\.conda\\lib\\site-packages\\facebook_scraper\\facebook_scraper.py:936\u001b[0m, in \u001b[0;36mFacebookScraper.get\u001b[1;34m(self, url, **kwargs)\u001b[0m\n\u001b[0;32m    931\u001b[0m     \u001b[39mraise\u001b[39;00m exceptions\u001b[39m.\u001b[39mAccountDisabled(\u001b[39m\"\u001b[39m\u001b[39mYour Account Has Been Disabled\u001b[39m\u001b[39m\"\u001b[39m)\n\u001b[0;32m    932\u001b[0m \u001b[39melif\u001b[39;00m (\n\u001b[0;32m    933\u001b[0m     \u001b[39m\"\u001b[39m\u001b[39m>We saw unusual activity on your account. This may mean that someone has used your account without your knowledge.<\u001b[39m\u001b[39m\"\u001b[39m\n\u001b[0;32m    934\u001b[0m     \u001b[39min\u001b[39;00m response\u001b[39m.\u001b[39mhtml\u001b[39m.\u001b[39mhtml\n\u001b[0;32m    935\u001b[0m ):\n\u001b[1;32m--> 936\u001b[0m     \u001b[39mraise\u001b[39;00m exceptions\u001b[39m.\u001b[39mAccountDisabled(\u001b[39m\"\u001b[39m\u001b[39mYour Account Has Been Locked\u001b[39m\u001b[39m\"\u001b[39m)\n\u001b[0;32m    937\u001b[0m \u001b[39melif\u001b[39;00m (\n\u001b[0;32m    938\u001b[0m     title\u001b[39m.\u001b[39mtext \u001b[39m==\u001b[39m \u001b[39m\"\u001b[39m\u001b[39mLog in to Facebook | Facebook\u001b[39m\u001b[39m\"\u001b[39m\n\u001b[0;32m    939\u001b[0m     \u001b[39mor\u001b[39;00m response\u001b[39m.\u001b[39murl\u001b[39m.\u001b[39mstartswith(utils\u001b[39m.\u001b[39murljoin(FB_MOBILE_BASE_URL, \u001b[39m\"\u001b[39m\u001b[39mlogin\u001b[39m\u001b[39m\"\u001b[39m))\n\u001b[0;32m    940\u001b[0m     \u001b[39mor\u001b[39;00m response\u001b[39m.\u001b[39murl\u001b[39m.\u001b[39mstartswith(utils\u001b[39m.\u001b[39murljoin(FB_W3_BASE_URL, \u001b[39m\"\u001b[39m\u001b[39mlogin\u001b[39m\u001b[39m\"\u001b[39m))\n\u001b[0;32m    941\u001b[0m ):\n\u001b[0;32m    942\u001b[0m     \u001b[39mraise\u001b[39;00m exceptions\u001b[39m.\u001b[39mLoginRequired(\n\u001b[0;32m    943\u001b[0m         \u001b[39m\"\u001b[39m\u001b[39mA login (cookies) is required to see this page\u001b[39m\u001b[39m\"\u001b[39m\n\u001b[0;32m    944\u001b[0m     )\n",
      "\u001b[1;31mAccountDisabled\u001b[0m: Your Account Has Been Locked"
     ]
    }
   ],
   "source": [
    "save_loc = Path('.\\saved_posts')\n",
    "post_generator = get_posts('beaverconfessions',pages=1, **my_dict)\n",
    "for posts in post_generator:    \n",
    "    write_to_json(posts, save_loc)"
   ]
  },
  {
   "cell_type": "code",
   "execution_count": 7,
   "metadata": {},
   "outputs": [],
   "source": [
    "def ask_GPT(post_text, prompt='Tell me, is the following post funny only with Yes/No: '):\n",
    "    OpenAI_prompt = prompt + post_text\n",
    "    openai_output = openai.Completion.create(\n",
    "        model=\"text-davinci-003\",\n",
    "        prompt=OpenAI_prompt,\n",
    "        temperature=0.6,\n",
    "        max_tokens=500,\n",
    "    )\n",
    "    return openai_output\n"
   ]
  },
  {
   "cell_type": "code",
   "execution_count": 13,
   "metadata": {},
   "outputs": [
    {
     "name": "stdout",
     "output_type": "stream",
     "text": [
      "#67919 Frankly, I find it embarrassing that you only get in touch when want to tell me about the new guy you like or want advice or want to get something off of your chest. There isn't even the guise of acting remotely interested in anything going on with me and it's the same routine, briefly asking how classes are going and then you're off. As soon as you're done telling me about what's up in your life, we just sit there in silence. This isn't what friendship should be.\n",
      "\n",
      "\n",
      "No. stop\n",
      "\n",
      "\n",
      "\n",
      "#67920 DOECHII SLAPS HELL YEA SEB I LOVE YOU WTFFFFF\n",
      "\n",
      "\n",
      "No. stop\n",
      "\n",
      "\n",
      "\n",
      "#67921 It warms my heart to see all of my fellow z attendees squatting regularly, but jfc most of y'all aren't even making it halfway down. Just today I watched one of you giblets do 3 quarter squats and then take a 5 minute break.\n",
      "\n",
      "\n",
      "No stop\n",
      "\n",
      "\n",
      "\n",
      "#67922 SEB, why aren't u mentioning yucky blucky fruitcake by doechii on the email, hmmmmm?? is she NOT PERFORMING YUCKY BLUCKY FRUITCAKE????? SPEAK UP, SPEAK up, SPEAK UP\n",
      "!!!!\n",
      "\n",
      "No. stop\n",
      "\n",
      "\n",
      "\n",
      "#67923 Gil Strang re-enters 26-100 after a fire alarm to thunderous applause. We Stan Gil Strang!!\n",
      "\n",
      "\n",
      "No stop\n",
      "\n",
      "\n",
      "\n",
      "#67924 Ok so the couple next to me keeps on having sex at inconvenient times (rip my interview💀) so can we vote and decide on a standardized MIT time to have sex? React for the following time if you would be not in your room or wouldn’t be bothered by your neighbors\n",
      "Like for 8pm-12am\n",
      "Laugh for 12am-4am\n",
      "Wow for 4am-8am\n",
      "Sad for 8am-12pm\n",
      "Angry for 12pm-4pm\n",
      "Heart for 4pm-8pm\n",
      "\n",
      "\n",
      "No. stop\n",
      "\n",
      "\n",
      "\n",
      "#67925 To whoever left duct tape weapons inside one of the eecs conference rooms, plz send the blueprints for how to make them.\n",
      "\n",
      "\n",
      "No. stop\n",
      "\n",
      "\n",
      "\n",
      "#67926 Doechii for spring fest is the redemption arc we didn't know we needed after missing doja in 2020\n",
      "?\n",
      "\n",
      "No. stop\n",
      "\n",
      "\n",
      "\n",
      "#67927 Quick poll for seniors (from a fellow senior): Would you be open to starting a relationship at this point in the semester?\n",
      "\n",
      "Haha for yes, but only with grad students and older\n",
      "Heart for yes, but only with other seniors and older\n",
      "Wow for yes, with anyone\n",
      "Angry for no\n",
      "\n",
      "\n",
      "No. stop\n",
      "\n",
      "\n",
      "\n",
      "#67928 Me when a man uses me for emotional and physical support but with no intention of committing to me: 😡☹️😖\n",
      "\n",
      "Me realizing I'm doing the same to him: 👁️👄👁️\n",
      "\n",
      "\n",
      "No. stop\n",
      "\n",
      "\n",
      "\n"
     ]
    }
   ],
   "source": [
    "all_paths = list(save_loc.iterdir())\n",
    "for json_path in all_paths:\n",
    "    post_dict = load_json(json_path)\n",
    "    open_ai_output = ask_GPT(post_dict['text'])\n",
    "    print(post_dict['text'])\n",
    "    print(open_ai_output['choices'][0]['text'], open_ai_output['choices'][0]['finish_reason'])\n",
    "    print('\\n\\n')"
   ]
  }
 ],
 "metadata": {
  "kernelspec": {
   "display_name": "openai_project",
   "language": "python",
   "name": "python3"
  },
  "language_info": {
   "codemirror_mode": {
    "name": "ipython",
    "version": 3
   },
   "file_extension": ".py",
   "mimetype": "text/x-python",
   "name": "python",
   "nbconvert_exporter": "python",
   "pygments_lexer": "ipython3",
   "version": "3.10.10"
  },
  "orig_nbformat": 4
 },
 "nbformat": 4,
 "nbformat_minor": 2
}
