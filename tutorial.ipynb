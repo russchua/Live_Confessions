{
 "cells": [
  {
   "cell_type": "code",
   "execution_count": 3,
   "metadata": {},
   "outputs": [],
   "source": [
    "import openai\n",
    "from facebook_scraper import get_posts"
   ]
  },
  {
   "cell_type": "code",
   "execution_count": 4,
   "metadata": {},
   "outputs": [],
   "source": [
    "# Loading the openai api key\n",
    "openai.api_key_path = '.\\openai_key'"
   ]
  },
  {
   "cell_type": "markdown",
   "metadata": {},
   "source": [
    "# Scraping Facebook Posts"
   ]
  },
  {
   "cell_type": "code",
   "execution_count": 15,
   "metadata": {},
   "outputs": [
    {
     "name": "stderr",
     "output_type": "stream",
     "text": [
      "  0%|          | 0/1000000000.0 [00:00<?, ?it/s]\n"
     ]
    },
    {
     "name": "stdout",
     "output_type": "stream",
     "text": [
      "#67674 do other dorms have food delivery theft issues or is this just macg?? hangry victims will start doing hangry things...\n",
      "There are 2 comments\n",
      "George Joubran Abu Dauod said my burrito 😔\n",
      "Shruthi Ravichandran said Jonah Romero :/\n",
      "\n",
      "\n",
      "\n"
     ]
    },
    {
     "name": "stderr",
     "output_type": "stream",
     "text": [
      "  0%|          | 0/1000000000.0 [00:00<?, ?it/s]\n"
     ]
    },
    {
     "name": "stdout",
     "output_type": "stream",
     "text": [
      "#67673 Serious question: how can I find people to hook up with on campus outside of parties?\n",
      "There are 3 comments\n",
      "George Joubran Abu Dauod said dormspam\n",
      "Adib Hasan said Lay Jain Siddhant Mukherjee which one of you wrote this 🤣🤣🤣\n",
      "\n",
      "\n",
      "\n"
     ]
    },
    {
     "name": "stderr",
     "output_type": "stream",
     "text": [
      "  0%|          | 0/1000000000.0 [00:00<?, ?it/s]\n"
     ]
    },
    {
     "name": "stdout",
     "output_type": "stream",
     "text": [
      "#67672 Bruh i wanna do things with people but I'm not aware of what stuff there is to do, any help?\n",
      "There are 5 comments\n",
      "Jade Chongsathapornpong said You should come on photowalks with Technique! We occasionally photograph bunnies. And other fun things.\n",
      "Hari Sridhar said If your city has a scenic river ( a.k.a. most cities since they seem to be historically founded on a local river ), set up a social outing for a group of friends to go kayaking, canoeing, or paddle boarding. Y'all are gonna have a blast doing that - especially if you can traverse under bridges!\n",
      "\n",
      "\n",
      "\n",
      "#67671 s anyone an alumni who graduated a virgin no longer one? I feel like I’m going to be in that position and I need conviction that I’ll be all good and that people will want me after college. Feeling like I’m completely undesirable right now.\n",
      "\n",
      "Signed yfn senior 6-14 in a frat 🥺\n",
      "There are 0 comments\n",
      "\n",
      "\n",
      "\n"
     ]
    },
    {
     "name": "stderr",
     "output_type": "stream",
     "text": [
      "  0%|          | 0/1000000000.0 [00:00<?, ?it/s]\n"
     ]
    },
    {
     "name": "stdout",
     "output_type": "stream",
     "text": [
      "#67670 Sometimes I (a woman) have to explain to non-MIT people why people will wave at me and say \"Hi Jack!\". I have given up on providing a sufficient explanation and have started telling people it's a nickname. But then people ask me why my nickname is so different from my actual name. Please help me come up with a quick and easy explanation for why Jack is a sufficient nickname for my very non-Jack-adjacent name.\n",
      "There are 10 comments\n",
      "Winnie Szeto said chatGPT: The reason behind the nickname \"Jack\" for a woman with a non-Jack-adjace\n",
      "nt name could be that it is a reference to the common phrase \"jack of all trades,\" which is often used to describe someone who is skilled at many different things. It could be that the person who gave you the nickname thinks of you as a versatile and capable individual, hence the association with the phrase.\n",
      "\n",
      "Another possibility is that \"Jack\" is simply a shortened version of your name that someone started using and it caught on. Many nicknames don't have a clear connection to the person's given name, but rather are based on other factors like personality traits, physical characteristics\n",
      ", or even inside jokes.\n",
      "\n",
      "Ultimately, the reason behind a nickname is often personal and specific to the individuals involved. If you don't feel comfortable sharing the backstory behind your nickname with others, you could simply say that it's a personal nickname that has stuck over time, without providing further explanation.\n",
      "Larry King said Because that was your name before the surgery!\n",
      "Amy Prager said become a man?\n",
      "Amber Luo said Jack Liu\n",
      "Ali Mohammad said It was a nickname I was given in prison, where I was incarcerated for killing someone who asked me about my nickname.\n",
      "\n",
      "\n",
      "\n"
     ]
    },
    {
     "name": "stderr",
     "output_type": "stream",
     "text": [
      "  0%|          | 0/1000000000.0 [00:00<?, ?it/s]\n"
     ]
    },
    {
     "name": "stdout",
     "output_type": "stream",
     "text": [
      "#67669 Why did MIT decide to do all this construction at once? Alumni pool, music center, stud, EC, the thing by Simmons, renovating the fire warehouse, new computing center. Just do one thing well and quickly. In the last three years BU built a 14 story, multipurpose academic center while MIT built 3 unfinished cinder block boxes. I won't even get to see the music building open before I graduate and I'm one of the people who literally lost sleep to it. Sincerely, a salty upperclassmen\n",
      "There are 5 comments\n",
      "Austin Wigley said MIT has always been building something, somewhere. From 2013-2017 or so MIT Nano was just an enormous hole in the ground and the entire \"outfinite\" felt largely inaccessible for the latter half of its construction.\n",
      "\n",
      "Since \"in the last three years\" is what we're working with here, Hayden was renovated, Kendall Square 4 (a replacement for Eastgate) has opened, 314 Main and the new Museum, The Polaroid building was torn down and replaced, Burton Conner was renovated, KSQ1 (housing) opened, there's a new welcome center and \"campus gateway\" as they're calling it, but the new subway station and retail center are technically not MIT and still under construction.\n",
      "\n",
      "Idk what else but there's always SOMETHING being done and this is not an exhaustive list. Just because you don't walk by it every day doesn't mean it doesn't matter to someone. I think just two of these projects I listed exceed like ~500 housing units for grad students.\n",
      "David  desJardins said I think there's a whole lot of work to be done and five years from now we're not going to be done, you're going to see the same level of work on other stuff. Doing one project at a time doesn't make them go faster than doing several things all at once -\\-\\ it's not like there's an MIT construction team that can either be spread over several projects or else all work on a single one. All of the work is done by contractors.\n",
      "Martin Chan said mit does a lot of construction\n",
      "\n",
      "\n",
      "\n"
     ]
    },
    {
     "name": "stderr",
     "output_type": "stream",
     "text": [
      "  0%|          | 0/1000000000.0 [00:00<?, ?it/s]\n"
     ]
    },
    {
     "name": "stdout",
     "output_type": "stream",
     "text": [
      "#67668 If I had a nickel for every time someone behind me in different lectures decided to disrespectfully put their feet up directly next to my face today, I would have two nickels, which isn't a lot but it's weird that it happened twice.\n",
      "There are 2 comments\n",
      "Mohammed Hijaz said People pay for that OP. Dont throw away a good thing😂\n",
      "Antti Asikainen said Sorry, won't do it a third time\n",
      "\n",
      "\n",
      "\n"
     ]
    },
    {
     "name": "stderr",
     "output_type": "stream",
     "text": [
      "  0%|          | 0/1000000000.0 [00:00<?, ?it/s]\n"
     ]
    },
    {
     "name": "stdout",
     "output_type": "stream",
     "text": [
      "#67667 To whoever left a yellow and red rose in front of McC room 532, was it an accident?\n",
      "\n",
      "- sincerely,\n",
      "a confused, frazzled junior\n",
      "There are 2 comments\n",
      "Kimberley Cheng said Awwwwwwww\n",
      "Maria Garcia-Garcia said So cute. Romance is brewing\n",
      "\n",
      "\n",
      "\n"
     ]
    },
    {
     "name": "stderr",
     "output_type": "stream",
     "text": [
      "  0%|          | 0/1000000000.0 [00:00<?, ?it/s]\n"
     ]
    },
    {
     "name": "stdout",
     "output_type": "stream",
     "text": [
      "#67666 Stop spamming the \"close door\" button the moment you walk onto the elevator. It saves you what? Maybe 3-8 seconds max? You're not better than anyone else, you're time is not more valuable than anyone else's, and frankly, it's rude.\n",
      "There are 5 comments\n",
      "Doremi  Feng said Maybe MIT buildings are different, but in general most elevators don’t actually have a functional “close door” button. It’s simply not wired in the back and serves emotional purposes only.(Elevators\n",
      "in hospital buildings often do have functional “close door” buttons.)\n",
      "Muhammed Atef said If your time isn't more valuable then you have no problem waiting for the elevator to come back down.\n",
      "Ajay Brahmakshatriya said YES! THANK YOU!\n",
      "Juju Wang said Information you didn’t know you wanted (or maybe you did who am I to assume): https://\n",
      "computer.rip/\n",
      "2023-03-13-the-d\n",
      "oor-close-butto\n",
      "n.html\n",
      "\n",
      "Tl;dr the button probably doesn’t save you time but is functional!\n",
      "Benjamin Zack Kutuzov said It adds up...\n",
      "\n",
      "\n",
      "\n"
     ]
    },
    {
     "name": "stderr",
     "output_type": "stream",
     "text": [
      "  0%|          | 0/1000000000.0 [00:00<?, ?it/s]"
     ]
    },
    {
     "name": "stdout",
     "output_type": "stream",
     "text": [
      "#67665 Sometimes when life as a PhD student gets too hard I like to pretend that I have dedicated my life to a higher power and my academic work is a set of strict religious duties that I must fulfill to cleanse my soul. Sleep deprivation? Eating 1 meal a day? Living in a tiny barren room with only the bare necessities? Abandoning all monetary wealth and worldly possessions? All in the name of the holy, omniscient, and omnipresent gears of science. I teach my students and research assistants with all the zeal and passion in my heart in the hopes that they may, one day, also walk my path. I dedicate my life to understanding the truth of the universe and converting people to my subfield as it is objectively the most interesting and worthy discipline out of all scientific disciplines which exist now and in the potential future. My one true wish in life is to tap into a rich vein of undiscovered knowledge so revolutionary that all will seek my wisdom as a vessel of scientific authority.\n",
      "\n",
      "Maybe I've been half-watching too many cult documentaries as background noise for my experiments.\n",
      "There are 2 comments\n",
      "Nadia Zaragoza said Wow i love this\n",
      "\n",
      "\n",
      "\n"
     ]
    },
    {
     "name": "stderr",
     "output_type": "stream",
     "text": [
      "\n"
     ]
    }
   ],
   "source": [
    "my_dict = {\n",
    "    'cookies': '.\\cookies.json',\n",
    "    'options': {\n",
    "        'comments': 'MAX_COMMENTS',\n",
    "        'progress': True\n",
    "    }\n",
    "}\n",
    "\n",
    "for posts in get_posts('beaverconfessions',pages=1, **my_dict):\n",
    "    print(posts['text'])\n",
    "    print(f\"There are {posts['comments']} comments\")\n",
    "    # print(posts['comments_full'])\n",
    "    for comments in posts['comments_full']:\n",
    "        print(f\"{comments['commenter_name']} said {comments['comment_text']}\")      \n",
    "    # print(posts)\n",
    "    print('\\n\\n')"
   ]
  }
 ],
 "metadata": {
  "kernelspec": {
   "display_name": "openai_project",
   "language": "python",
   "name": "python3"
  },
  "language_info": {
   "name": "python"
  },
  "orig_nbformat": 4
 },
 "nbformat": 4,
 "nbformat_minor": 2
}
